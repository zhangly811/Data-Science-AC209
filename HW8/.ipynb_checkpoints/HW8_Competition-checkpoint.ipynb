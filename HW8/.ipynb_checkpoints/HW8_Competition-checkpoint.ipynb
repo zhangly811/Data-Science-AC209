{
 "cells": [
  {
   "cell_type": "code",
   "execution_count": 1,
   "metadata": {
    "collapsed": true
   },
   "outputs": [],
   "source": [
    "import numpy as np\n",
    "import pandas as pd\n",
    "import scipy as sp\n",
    "from sklearn import linear_model\n",
    "from sklearn.decomposition import PCA\n",
    "from sklearn.cross_validation import KFold\n",
    "from sklearn import svm\n",
    "import matplotlib\n",
    "import matplotlib.pyplot as plt\n",
    "from sklearn.linear_model import LogisticRegression as LogReg\n",
    "from sklearn.neighbors import KNeighborsClassifier as KNN\n",
    "\n",
    "%matplotlib inline"
   ]
  },
  {
   "cell_type": "code",
   "execution_count": 2,
   "metadata": {
    "collapsed": false
   },
   "outputs": [],
   "source": [
    "#Load the data\n",
    "\n",
    "x = np.loadtxt('datasets/train_predictors.txt', delimiter = ',')\n",
    "\n",
    "y = np.loadtxt('datasets/train_labels.txt', delimiter = ',')\n",
    "\n",
    "x_final_test = np.loadtxt('datasets/test_predictors.txt', delimiter = ',')"
   ]
  },
  {
   "cell_type": "code",
   "execution_count": 3,
   "metadata": {
    "collapsed": true
   },
   "outputs": [],
   "source": [
    "# Size of the data set\n",
    "n = x.shape[0]\n",
    "\n",
    "# # Generate a random subsample of data points\n",
    "# # This is the bootstrap\n",
    "# perm = np.random.randint(low=0, high=n, size=n) # Generate a list of indices 0 to n and permute it    \n",
    "# x_subsample = x[perm]\n",
    "# y_subsample = y[perm] \n",
    "    \n",
    "# # Split the dataset: first 80% into training and remaining for validation\n",
    "# cutoff = 54323\n",
    "# x_train = x_subsample[:cutoff, :]\n",
    "# y_train = y_subsample[:cutoff]\n",
    "# x_test = x_subsample[cutoff:, :]\n",
    "# y_test = y_subsample[cutoff:]"
   ]
  },
  {
   "cell_type": "code",
   "execution_count": 4,
   "metadata": {
    "collapsed": true
   },
   "outputs": [],
   "source": [
    "#Load models\n",
    "models = np.load('datasets/models.npy')"
   ]
  },
  {
   "cell_type": "code",
   "execution_count": 12,
   "metadata": {
    "collapsed": false
   },
   "outputs": [
    {
     "name": "stdout",
     "output_type": "stream",
     "text": [
      "0\n",
      "1\n",
      "2\n",
      "3\n",
      "4\n",
      "5\n",
      "6\n",
      "7\n",
      "8\n",
      "9\n"
     ]
    }
   ],
   "source": [
    "new_x_train = np.zeros([len(x_train), len(models)])\n",
    "new_x_test = np.zeros([len(x_test), len(models)])\n",
    "new_x_final_test = np.zeros([len(x_final_test), len(models)])\n",
    "\n",
    "for i in range(10):\n",
    "    models[i].fit(x_train, y_train)\n",
    "    new_x_train[:, i] = models[i].predict(x_train)\n",
    "    new_x_test[:, i] = models[i].predict(x_test)\n",
    "    print i"
   ]
  },
  {
   "cell_type": "code",
   "execution_count": 13,
   "metadata": {
    "collapsed": false
   },
   "outputs": [
    {
     "data": {
      "text/plain": [
       "0.99521390177453795"
      ]
     },
     "execution_count": 13,
     "metadata": {},
     "output_type": "execute_result"
    }
   ],
   "source": [
    "# Fit SVM model with C = 1000\n",
    "\n",
    "model_svm = svm.SVC(C=1000, kernel='linear')\n",
    "model_svm.fit(new_x_train, y_train)   \n",
    "y_pred_svm = model_svm.predict(new_x_test)\n",
    "\n",
    "np.mean(y_pred_svm == y_test)"
   ]
  },
  {
   "cell_type": "code",
   "execution_count": 6,
   "metadata": {
    "collapsed": true
   },
   "outputs": [],
   "source": [
    "new_x = np.zeros([len(x), len(models)])\n",
    "new_x_final_test = np.zeros([len(x_final_test), len(models)])"
   ]
  },
  {
   "cell_type": "code",
   "execution_count": 5,
   "metadata": {
    "collapsed": false
   },
   "outputs": [
    {
     "name": "stdout",
     "output_type": "stream",
     "text": [
      "0\n"
     ]
    },
    {
     "ename": "KeyboardInterrupt",
     "evalue": "",
     "output_type": "error",
     "traceback": [
      "\u001b[0;31m---------------------------------------------------------------------------\u001b[0m",
      "\u001b[0;31mKeyboardInterrupt\u001b[0m                         Traceback (most recent call last)",
      "\u001b[0;32m<ipython-input-5-9180d183e591>\u001b[0m in \u001b[0;36m<module>\u001b[0;34m()\u001b[0m\n\u001b[1;32m      4\u001b[0m \u001b[0;34m\u001b[0m\u001b[0m\n\u001b[1;32m      5\u001b[0m \u001b[0;32mfor\u001b[0m \u001b[0mi\u001b[0m \u001b[0;32min\u001b[0m \u001b[0mrange\u001b[0m\u001b[0;34m(\u001b[0m\u001b[0;36m10\u001b[0m\u001b[0;34m)\u001b[0m\u001b[0;34m:\u001b[0m\u001b[0;34m\u001b[0m\u001b[0m\n\u001b[0;32m----> 6\u001b[0;31m     \u001b[0mmodels\u001b[0m\u001b[0;34m[\u001b[0m\u001b[0mi\u001b[0m\u001b[0;34m]\u001b[0m\u001b[0;34m.\u001b[0m\u001b[0mfit\u001b[0m\u001b[0;34m(\u001b[0m\u001b[0mx\u001b[0m\u001b[0;34m,\u001b[0m \u001b[0my\u001b[0m\u001b[0;34m)\u001b[0m\u001b[0;34m\u001b[0m\u001b[0m\n\u001b[0m\u001b[1;32m      7\u001b[0m     \u001b[0mnew_x\u001b[0m\u001b[0;34m[\u001b[0m\u001b[0;34m:\u001b[0m\u001b[0;34m,\u001b[0m \u001b[0mi\u001b[0m\u001b[0;34m]\u001b[0m \u001b[0;34m=\u001b[0m \u001b[0mmodels\u001b[0m\u001b[0;34m[\u001b[0m\u001b[0mi\u001b[0m\u001b[0;34m]\u001b[0m\u001b[0;34m.\u001b[0m\u001b[0mpredict\u001b[0m\u001b[0;34m(\u001b[0m\u001b[0mx\u001b[0m\u001b[0;34m)\u001b[0m\u001b[0;34m\u001b[0m\u001b[0m\n\u001b[1;32m      8\u001b[0m     \u001b[0mnew_x_final_test\u001b[0m\u001b[0;34m[\u001b[0m\u001b[0;34m:\u001b[0m\u001b[0;34m,\u001b[0m \u001b[0mi\u001b[0m\u001b[0;34m]\u001b[0m \u001b[0;34m=\u001b[0m \u001b[0mmodels\u001b[0m\u001b[0;34m[\u001b[0m\u001b[0mi\u001b[0m\u001b[0;34m]\u001b[0m\u001b[0;34m.\u001b[0m\u001b[0mpredict\u001b[0m\u001b[0;34m(\u001b[0m\u001b[0mx_final_test\u001b[0m\u001b[0;34m)\u001b[0m\u001b[0;34m\u001b[0m\u001b[0m\n",
      "\u001b[0;32m/Users/Linying/anaconda/lib/python2.7/site-packages/sklearn/svm/base.pyc\u001b[0m in \u001b[0;36mfit\u001b[0;34m(self, X, y, sample_weight)\u001b[0m\n\u001b[1;32m    191\u001b[0m \u001b[0;34m\u001b[0m\u001b[0m\n\u001b[1;32m    192\u001b[0m         \u001b[0mseed\u001b[0m \u001b[0;34m=\u001b[0m \u001b[0mrnd\u001b[0m\u001b[0;34m.\u001b[0m\u001b[0mrandint\u001b[0m\u001b[0;34m(\u001b[0m\u001b[0mnp\u001b[0m\u001b[0;34m.\u001b[0m\u001b[0miinfo\u001b[0m\u001b[0;34m(\u001b[0m\u001b[0;34m'i'\u001b[0m\u001b[0;34m)\u001b[0m\u001b[0;34m.\u001b[0m\u001b[0mmax\u001b[0m\u001b[0;34m)\u001b[0m\u001b[0;34m\u001b[0m\u001b[0m\n\u001b[0;32m--> 193\u001b[0;31m         \u001b[0mfit\u001b[0m\u001b[0;34m(\u001b[0m\u001b[0mX\u001b[0m\u001b[0;34m,\u001b[0m \u001b[0my\u001b[0m\u001b[0;34m,\u001b[0m \u001b[0msample_weight\u001b[0m\u001b[0;34m,\u001b[0m \u001b[0msolver_type\u001b[0m\u001b[0;34m,\u001b[0m \u001b[0mkernel\u001b[0m\u001b[0;34m,\u001b[0m \u001b[0mrandom_seed\u001b[0m\u001b[0;34m=\u001b[0m\u001b[0mseed\u001b[0m\u001b[0;34m)\u001b[0m\u001b[0;34m\u001b[0m\u001b[0m\n\u001b[0m\u001b[1;32m    194\u001b[0m         \u001b[0;31m# see comment on the other call to np.iinfo in this file\u001b[0m\u001b[0;34m\u001b[0m\u001b[0;34m\u001b[0m\u001b[0m\n\u001b[1;32m    195\u001b[0m \u001b[0;34m\u001b[0m\u001b[0m\n",
      "\u001b[0;32m/Users/Linying/anaconda/lib/python2.7/site-packages/sklearn/svm/base.pyc\u001b[0m in \u001b[0;36m_dense_fit\u001b[0;34m(self, X, y, sample_weight, solver_type, kernel, random_seed)\u001b[0m\n\u001b[1;32m    249\u001b[0m                 \u001b[0mcache_size\u001b[0m\u001b[0;34m=\u001b[0m\u001b[0mself\u001b[0m\u001b[0;34m.\u001b[0m\u001b[0mcache_size\u001b[0m\u001b[0;34m,\u001b[0m \u001b[0mcoef0\u001b[0m\u001b[0;34m=\u001b[0m\u001b[0mself\u001b[0m\u001b[0;34m.\u001b[0m\u001b[0mcoef0\u001b[0m\u001b[0;34m,\u001b[0m\u001b[0;34m\u001b[0m\u001b[0m\n\u001b[1;32m    250\u001b[0m                 \u001b[0mgamma\u001b[0m\u001b[0;34m=\u001b[0m\u001b[0mself\u001b[0m\u001b[0;34m.\u001b[0m\u001b[0m_gamma\u001b[0m\u001b[0;34m,\u001b[0m \u001b[0mepsilon\u001b[0m\u001b[0;34m=\u001b[0m\u001b[0mself\u001b[0m\u001b[0;34m.\u001b[0m\u001b[0mepsilon\u001b[0m\u001b[0;34m,\u001b[0m\u001b[0;34m\u001b[0m\u001b[0m\n\u001b[0;32m--> 251\u001b[0;31m                 max_iter=self.max_iter, random_seed=random_seed)\n\u001b[0m\u001b[1;32m    252\u001b[0m \u001b[0;34m\u001b[0m\u001b[0m\n\u001b[1;32m    253\u001b[0m         \u001b[0mself\u001b[0m\u001b[0;34m.\u001b[0m\u001b[0m_warn_from_fit_status\u001b[0m\u001b[0;34m(\u001b[0m\u001b[0;34m)\u001b[0m\u001b[0;34m\u001b[0m\u001b[0m\n",
      "\u001b[0;31mKeyboardInterrupt\u001b[0m: "
     ]
    }
   ],
   "source": [
    "for i in range(10):\n",
    "    models[i].fit(x, y)\n",
    "    new_x[:, i] = models[i].predict(x)\n",
    "    new_x_final_test[:, i] = models[i].predict(x_final_test)\n",
    "    print i"
   ]
  },
  {
   "cell_type": "code",
   "execution_count": null,
   "metadata": {
    "collapsed": true
   },
   "outputs": [],
   "source": [
    "#0,2,\n",
    "models[3].fit(x, y)\n",
    "new_x[:, 3] = models[3].predict(x)\n",
    "new_x_final_test[:, 3] = models[3].predict(x_final_test)"
   ]
  },
  {
   "cell_type": "code",
   "execution_count": null,
   "metadata": {
    "collapsed": true
   },
   "outputs": [],
   "source": [
    "# Fit SVM model with C = 1000\n",
    "\n",
    "model_svm = svm.SVC(C=1000)\n",
    "model_svm.fit(new_x, y)   \n",
    "y_pred_svm = model_svm.predict(new_x_final_test)\n",
    "\n",
    "np.mean(y_pred_svm == y_test)"
   ]
  },
  {
   "cell_type": "code",
   "execution_count": 15,
   "metadata": {
    "collapsed": false
   },
   "outputs": [
    {
     "data": {
      "text/plain": [
       "13581"
      ]
     },
     "execution_count": 15,
     "metadata": {},
     "output_type": "execute_result"
    }
   ],
   "source": [
    "len(y_pred_svm)"
   ]
  },
  {
   "cell_type": "code",
   "execution_count": 14,
   "metadata": {
    "collapsed": true
   },
   "outputs": [],
   "source": [
    "feature_list = ['label']\n",
    "SVM1 = pd.DataFrame(y_pred_svm.astype(int), columns=feature_list)\n",
    "SVM1.index = range(1, len(x_test)+1)\n",
    "SVM1.to_csv(\"SVM1.csv\", sep=',')"
   ]
  },
  {
   "cell_type": "code",
   "execution_count": 148,
   "metadata": {
    "collapsed": false
   },
   "outputs": [],
   "source": [
    "from sklearn.ensemble import RandomForestClassifier\n",
    "\n",
    "\n",
    "clfForest = RandomForestClassifier()\n",
    "y = y.reshape(len(y),)\n",
    "y.shape\n",
    "\n",
    "# FIT THE TREE \n",
    "clf=clfForest.fit(x, y)\n",
    "\n",
    "training_accuracy = clfForest.score(x, y)\n",
    "y_pred = clfForest.predict(x_test)"
   ]
  },
  {
   "cell_type": "code",
   "execution_count": 140,
   "metadata": {
    "collapsed": false
   },
   "outputs": [
    {
     "name": "stdout",
     "output_type": "stream",
     "text": [
      "430.0\n"
     ]
    }
   ],
   "source": [
    "# Number of cases in dataset\n",
    "print y.mean()*len(x)\n",
    "\n",
    "# separate cases and controls in the training set\n",
    "# Concatenate x and y\n",
    "y = y.reshape(len(y),1)\n",
    "data = np.concatenate((x,y),axis =1)\n",
    "cases = data[data[:, 102]==1]\n",
    "# cases.shape\n",
    "controls = data[data[:, 102]==0]\n",
    "# controls.shape\n",
    "\n",
    "# bootstrap 30% cases, and match same number of controls \n"
   ]
  },
  {
   "cell_type": "code",
   "execution_count": null,
   "metadata": {
    "collapsed": true
   },
   "outputs": [],
   "source": [
    "# Size of the data set\n",
    "n = x.shape[0]\n",
    "\n",
    "# No. of subsamples\n",
    "num_samples = 20\n",
    "for i in range(num_samples):\n",
    "\n",
    "    # Generate a random subsample of data points\n",
    "    # This is the bootstrap\n",
    "    perm = np.random.randint(low=0, high=n, size=n) # Generate a list of indices 0 to n and permute it    \n",
    "    x_subsample = x[perm]\n",
    "    y_subsample = y[perm] \n",
    "    \n",
    "    # Split the dataset: first 20% into training and remaining for validation\n",
    "#     cutoff = round(n*0.2)\n",
    "    cutoff = 10000\n",
    "    x_train = x_subsample[:cutoff, :]\n",
    "    y_train = y_subsample[:cutoff]\n",
    "    x_valid = x_subsample[cutoff:, :]\n",
    "    y_valid = y_subsample[cutoff:]"
   ]
  },
  {
   "cell_type": "code",
   "execution_count": null,
   "metadata": {
    "collapsed": true
   },
   "outputs": [],
   "source": [
    "#### STANDARDIZATION OF PREDICTORS ####\n",
    "# Check for 0 standard deviation\n",
    "# If std = 0, change it to 1 to avoid NaN in standardization\n",
    "x_std = x.std(axis=0)\n",
    "x_std[x_std == 0]=1\n",
    "\n",
    "# Standardize parameters\n",
    "x = (x - x.mean(axis=0))/x_std\n",
    "x_test = (x_test - x.mean(axis=0))/x_std"
   ]
  },
  {
   "cell_type": "code",
   "execution_count": null,
   "metadata": {
    "collapsed": false
   },
   "outputs": [],
   "source": [
    "############### MODELING AND ANALYSIS ###############\n",
    "\n",
    "# Size of the data set\n",
    "n = x.shape[0]\n",
    "\n",
    "# No. of subsamples\n",
    "num_samples = 20\n",
    "\n",
    "#Set range of penalty parameter lambda\n",
    "lambda_min = -7\n",
    "lambda_max = 7\n",
    "\n",
    "num_lambdas = 15\n",
    "num_predictors = x.shape[1]\n",
    "\n",
    "lambdas= np.linspace(lambda_min,lambda_max, num_lambdas)\n",
    "\n",
    "#Create empty arrays to store accuracy of train, validation, and average accuracy from bootstrapping\n",
    "accuracy_train = np.zeros([num_samples, num_lambdas])\n",
    "accuracy_valid = np.zeros([num_samples, num_lambdas])\n",
    "\n",
    "\n",
    "for i in range(num_samples):\n",
    "\n",
    "    # Generate a random subsample of data points\n",
    "    # This is the bootstrap\n",
    "    perm = np.random.randint(low=0, high=n, size=n) # Generate a list of indices 0 to n and permute it    \n",
    "    x_subsample = x[perm]\n",
    "    y_subsample = y[perm] \n",
    "    \n",
    "    # Split the dataset: first 20% into training and remaining for validation\n",
    "#     cutoff = round(n*0.2)\n",
    "    cutoff = 10000\n",
    "    x_train = x_subsample[:cutoff, :]\n",
    "    y_train = y_subsample[:cutoff]\n",
    "    x_valid = x_subsample[cutoff:, :]\n",
    "    y_valid = y_subsample[cutoff:]\n",
    "\n",
    "\n",
    "\n",
    "     # Fit logistic regression with varying lambda (lasso penalty) on train set\n",
    "    for j in range(lambda_min, lambda_max+1):\n",
    "        reg=LogReg(C=10**j, penalty='l1')\n",
    "        reg.fit(x_train, y_train)\n",
    "        accuracy_train[i,j+7] = reg.score(x_train, y_train)\n",
    "        accuracy_valid[i,j+7] = reg.score(x_valid, y_valid)\n",
    "    \n",
    "# calculate r-squared mean across five fold for each lambda\n",
    "average_accuracy_train = accuracy_train.mean(axis = 0)\n",
    "average_accuracy_valid = accuracy_valid.mean(axis = 0)\n",
    "    \n",
    "# plot accuracy of training and testing dataset against parameter lambda\n",
    "plt.figure(figsize=(10,5))\n",
    "h = np.log(10**lambdas)\n",
    "plt.plot(h, average_accuracy_train, 'bo-', label = 'train')\n",
    "plt.plot(h, average_accuracy_valid, 'ro-', label = 'validation')\n",
    "plt.title('Accuracy of Logistic regression with Lasso penalty');plt.xlabel('log(C)');plt.ylabel('Accuracy')\n",
    "plt.legend(loc='best')\n",
    "plt.show()"
   ]
  },
  {
   "cell_type": "code",
   "execution_count": null,
   "metadata": {
    "collapsed": true
   },
   "outputs": [],
   "source": []
  },
  {
   "cell_type": "code",
   "execution_count": 158,
   "metadata": {
    "collapsed": false
   },
   "outputs": [],
   "source": [
    "feature_list = ['label']\n",
    "RandomForest1 = pd.DataFrame(y_pred.astype(int), columns=feature_list)\n",
    "RandomForest1.index = range(1, len(x_test)+1)\n",
    "RandomForest1.to_csv(\"RandomForest1.csv\", sep=',')"
   ]
  }
 ],
 "metadata": {
  "anaconda-cloud": {},
  "kernelspec": {
   "display_name": "Python [Root]",
   "language": "python",
   "name": "Python [Root]"
  },
  "language_info": {
   "codemirror_mode": {
    "name": "ipython",
    "version": 2
   },
   "file_extension": ".py",
   "mimetype": "text/x-python",
   "name": "python",
   "nbconvert_exporter": "python",
   "pygments_lexer": "ipython2",
   "version": "2.7.12"
  }
 },
 "nbformat": 4,
 "nbformat_minor": 0
}
