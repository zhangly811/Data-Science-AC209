{
 "cells": [
  {
   "cell_type": "code",
   "execution_count": 1,
   "metadata": {
    "collapsed": true
   },
   "outputs": [],
   "source": [
    "import numpy as np\n",
    "import pandas as pd\n",
    "import scipy as sp\n",
    "from sklearn import linear_model\n",
    "from sklearn.decomposition import PCA\n",
    "from sklearn.cross_validation import KFold\n",
    "from sklearn import svm\n",
    "import matplotlib\n",
    "import matplotlib.pyplot as plt\n",
    "from sklearn.linear_model import LogisticRegression as LogReg\n",
    "from sklearn.neighbors import KNeighborsClassifier as KNN\n",
    "\n",
    "%matplotlib inline"
   ]
  },
  {
   "cell_type": "code",
   "execution_count": 2,
   "metadata": {
    "collapsed": true
   },
   "outputs": [],
   "source": [
    "#Load the data\n",
    "\n",
    "x = np.loadtxt('datasets/train_predictors.txt', delimiter = ',')\n",
    "\n",
    "y = np.loadtxt('datasets/train_labels.txt', delimiter = ',')\n",
    "\n",
    "x_final_test = np.loadtxt('datasets/test_predictors.txt', delimiter = ',')"
   ]
  },
  {
   "cell_type": "code",
   "execution_count": null,
   "metadata": {
    "collapsed": false
   },
   "outputs": [],
   "source": [
    "# Size of the data set\n",
    "n = x.shape[0]\n",
    "\n",
    "# No. of subsamples\n",
    "num_samples = 5\n",
    "\n",
    "# Split the dataset: first 20% into training and remaining for validation\n",
    "cutoff = int(round(n*0.2))\n",
    "\n",
    "\n",
    "# for i in range(num_samples):\n",
    "\n",
    "# Generate a random subsample of data points\n",
    "# This is the bootstrap\n",
    "perm = np.random.randint(low=0, high=n, size=n) # Generate a list of indices 0 to n and permute it    \n",
    "x_subsample = x[perm]\n",
    "y_subsample = y[perm] \n",
    "\n",
    "x_train = x_subsample[:cutoff, :]\n",
    "y_train = y_subsample[:cutoff]\n",
    "x_valid = x_subsample[cutoff:, :]\n",
    "y_valid = y_subsample[cutoff:]\n",
    "\n",
    "model_svm = svm.SVC(C=1000, kernel='linear')\n",
    "model_svm.fit(x_train, y_train)   \n",
    "y_pred_valid = model_svm.predict(x_valid)\n",
    "y_pred_svm = model_svm.predict(x_final_test)\n",
    "\n",
    "predicted_pos = len(y_pred_valid[y_pred_valid == 1])\n",
    "actural_pos = len(y_valid[y_valid == 1])\n",
    "addition_y = y_pred_valid + y_valid\n",
    "true_pos = addition_y[addition_y == 2]\n",
    "p = true_pos/float(predicted_pos)\n",
    "r = true_pos/float(actural_pos)\n",
    "f1_score = 2*p*r/(p+r)\n",
    "f1_score\n",
    "\n",
    "\n",
    "\n"
   ]
  },
  {
   "cell_type": "code",
   "execution_count": null,
   "metadata": {
    "collapsed": false
   },
   "outputs": [
    {
     "name": "stdout",
     "output_type": "stream",
     "text": [
      "0\n"
     ]
    }
   ],
   "source": [
    "# Size of the data set\n",
    "n = x.shape[0]\n",
    "\n",
    "# No. of subsamples\n",
    "num_samples = 5\n",
    "\n",
    "# Split the dataset: first 20% into training and remaining for validation\n",
    "cutoff = int(round(n*0.2))\n",
    "\n",
    "\n",
    "for i in range(num_samples):\n",
    "\n",
    "    # Generate a random subsample of data points\n",
    "    # This is the bootstrap\n",
    "    perm = np.random.randint(low=0, high=n, size=n) # Generate a list of indices 0 to n and permute it    \n",
    "    x_subsample = x[perm]\n",
    "    y_subsample = y[perm] \n",
    "    \n",
    "    x_train = x_subsample[:cutoff, :]\n",
    "    y_train = y_subsample[:cutoff]\n",
    "    x_valid = x_subsample[cutoff:, :]\n",
    "    y_valid = y_subsample[cutoff:]\n",
    "    \n",
    "    # Try svm model\n",
    "    print i\n",
    "    model_svm = svm.SVC(C=1000, kernel='linear')\n",
    "    model_svm.fit(x_train, y_train)   \n",
    "    y_pred_valid = model_svm.predict(x_valid)\n",
    "    y_pred_svm = model_svm.predict(x_final_test)\n",
    "    \n",
    "    print model_svm.score(x_valid, y_valid)\n",
    "\n"
   ]
  },
  {
   "cell_type": "code",
   "execution_count": 6,
   "metadata": {
    "collapsed": false
   },
   "outputs": [
    {
     "data": {
      "text/plain": [
       "False"
      ]
     },
     "execution_count": 6,
     "metadata": {},
     "output_type": "execute_result"
    }
   ],
   "source": []
  }
 ],
 "metadata": {
  "anaconda-cloud": {},
  "kernelspec": {
   "display_name": "Python [Root]",
   "language": "python",
   "name": "Python [Root]"
  },
  "language_info": {
   "codemirror_mode": {
    "name": "ipython",
    "version": 2
   },
   "file_extension": ".py",
   "mimetype": "text/x-python",
   "name": "python",
   "nbconvert_exporter": "python",
   "pygments_lexer": "ipython2",
   "version": "2.7.12"
  }
 },
 "nbformat": 4,
 "nbformat_minor": 0
}
