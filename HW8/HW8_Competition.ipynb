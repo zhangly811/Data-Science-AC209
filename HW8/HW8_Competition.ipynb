{
 "cells": [
  {
   "cell_type": "code",
   "execution_count": 1,
   "metadata": {
    "collapsed": true
   },
   "outputs": [],
   "source": [
    "import numpy as np\n",
    "import pandas as pd\n",
    "import scipy as sp\n",
    "from sklearn import linear_model\n",
    "from sklearn.decomposition import PCA\n",
    "from sklearn.cross_validation import KFold\n",
    "from sklearn import svm\n",
    "import matplotlib\n",
    "import matplotlib.pyplot as plt\n",
    "from sklearn.linear_model import LogisticRegression as LogReg\n",
    "from sklearn.neighbors import KNeighborsClassifier as KNN\n",
    "\n",
    "\n",
    "%matplotlib inline"
   ]
  },
  {
   "cell_type": "code",
   "execution_count": 2,
   "metadata": {
    "collapsed": false
   },
   "outputs": [],
   "source": [
    "#Load the data\n",
    "\n",
    "x = np.loadtxt('datasets/train_predictors.txt', delimiter = ',')\n",
    "\n",
    "y = np.loadtxt('datasets/train_labels.txt', delimiter = ',')\n",
    "\n",
    "x_final_test = np.loadtxt('datasets/test_predictors.txt', delimiter = ',')"
   ]
  },
  {
   "cell_type": "code",
   "execution_count": 25,
   "metadata": {
    "collapsed": false
   },
   "outputs": [],
   "source": [
    "# separate cases and controls in the training set\n",
    "# Concatenate x and y\n",
    "y = y.reshape(len(y),1)\n",
    "data = np.concatenate((x,y),axis =1)\n",
    "cases = data[data[:, 102]==1]\n",
    "# cases.shape\n",
    "controls = data[data[:, 102]==0]\n",
    "# controls.shape\n",
    "\n",
    "# permute controls, and choose same number of controls as cases \n",
    "n_control = controls.shape[0]\n",
    "perm = np.random.randint(low=0, high=n_control, size=n_control) # Generate a list of indices 0 to n and permute it    \n",
    "controls_perm = controls[perm]\n",
    "controls_subsample = controls_perm[:cases.shape[0]] \n",
    "\n",
    "# Form balanced training set with equal cases and controls\n",
    "train = np.concatenate((controls_subsample, cases), axis = 0)\n",
    "# Separate predictors and labels\n",
    "x_train = train[:, :-1]\n",
    "y_train = train[:, -1]"
   ]
  },
  {
   "cell_type": "code",
   "execution_count": 44,
   "metadata": {
    "collapsed": false
   },
   "outputs": [
    {
     "data": {
      "text/plain": [
       "array([ LogisticRegression(C=1.0, class_weight=None, dual=False, fit_intercept=True,\n",
       "          intercept_scaling=1, max_iter=100, multi_class='ovr', n_jobs=1,\n",
       "          penalty='l2', random_state=None, solver='liblinear', tol=0.0001,\n",
       "          verbose=0, warm_start=False),\n",
       "       SVC(C=1.0, cache_size=200, class_weight=None, coef0=0.0,\n",
       "  decision_function_shape=None, degree=3, gamma='auto', kernel='linear',\n",
       "  max_iter=-1, probability=False, random_state=None, shrinking=True,\n",
       "  tol=0.001, verbose=False),\n",
       "       LinearDiscriminantAnalysis(n_components=None, priors=None, shrinkage=None,\n",
       "              solver='svd', store_covariance=False, tol=0.0001),\n",
       "       SVC(C=1.0, cache_size=200, class_weight=None, coef0=0.0,\n",
       "  decision_function_shape=None, degree=3, gamma='auto', kernel='linear',\n",
       "  max_iter=-1, probability=False, random_state=None, shrinking=True,\n",
       "  tol=0.001, verbose=False),\n",
       "       QuadraticDiscriminantAnalysis(priors=None, reg_param=0.0,\n",
       "               store_covariances=False, tol=0.0001),\n",
       "       DecisionTreeClassifier(class_weight=None, criterion='gini', max_depth=1,\n",
       "            max_features=None, max_leaf_nodes=None, min_samples_leaf=1,\n",
       "            min_samples_split=2, min_weight_fraction_leaf=0.0,\n",
       "            presort=False, random_state=None, splitter='best'),\n",
       "       DecisionTreeClassifier(class_weight=None, criterion='gini', max_depth=1,\n",
       "            max_features=None, max_leaf_nodes=None, min_samples_leaf=1,\n",
       "            min_samples_split=2, min_weight_fraction_leaf=0.0,\n",
       "            presort=False, random_state=None, splitter='best'),\n",
       "       DecisionTreeClassifier(class_weight=None, criterion='gini', max_depth=1,\n",
       "            max_features=None, max_leaf_nodes=None, min_samples_leaf=1,\n",
       "            min_samples_split=2, min_weight_fraction_leaf=0.0,\n",
       "            presort=False, random_state=None, splitter='best'),\n",
       "       DecisionTreeClassifier(class_weight=None, criterion='gini', max_depth=1,\n",
       "            max_features=None, max_leaf_nodes=None, min_samples_leaf=1,\n",
       "            min_samples_split=2, min_weight_fraction_leaf=0.0,\n",
       "            presort=False, random_state=None, splitter='best'),\n",
       "       DecisionTreeClassifier(class_weight=None, criterion='gini', max_depth=1,\n",
       "            max_features=None, max_leaf_nodes=None, min_samples_leaf=1,\n",
       "            min_samples_split=2, min_weight_fraction_leaf=0.0,\n",
       "            presort=False, random_state=None, splitter='best')], dtype=object)"
      ]
     },
     "execution_count": 44,
     "metadata": {},
     "output_type": "execute_result"
    }
   ],
   "source": [
    "#Load models\n",
    "models = np.load('datasets/models.npy')\n",
    "models"
   ]
  },
  {
   "cell_type": "code",
   "execution_count": 13,
   "metadata": {
    "collapsed": false
   },
   "outputs": [
    {
     "data": {
      "text/plain": [
       "0.99521390177453795"
      ]
     },
     "execution_count": 13,
     "metadata": {},
     "output_type": "execute_result"
    }
   ],
   "source": [
    "new_x_train = np.zeros([len(x_train), len(models)])\n",
    "new_x_test = np.zeros([len(x_test), len(models)])\n",
    "new_x_final_test = np.zeros([len(x_final_test), len(models)])\n",
    "\n",
    "for i in range(10):\n",
    "    models[i].fit(x_train, y_train)\n",
    "    new_x_train[:, i] = models[i].predict(x_train)\n",
    "    new_x_test[:, i] = models[i].predict(x_test)\n",
    "    print i\n",
    "\n",
    "# Fit SVM model with C = 1000\n",
    "\n",
    "model_svm = svm.SVC(C=1000, kernel='linear')\n",
    "model_svm.fit(new_x_train, y_train)   \n",
    "y_pred_svm = model_svm.predict(new_x_test)\n",
    "\n",
    "np.mean(y_pred_svm == y_test)"
   ]
  },
  {
   "cell_type": "code",
   "execution_count": 29,
   "metadata": {
    "collapsed": true
   },
   "outputs": [],
   "source": [
    "new_x = np.zeros([len(x_train), len(models)])\n",
    "new_x_final_test = np.zeros([len(x_final_test), len(models)])"
   ]
  },
  {
   "cell_type": "code",
   "execution_count": 39,
   "metadata": {
    "collapsed": false
   },
   "outputs": [],
   "source": [
    "#0,2,4,5,6,7,8,9\n",
    "i=1\n",
    "models[i].fit(x_train, y_train)\n",
    "new_x[:, i] = models[i].predict(x_train)\n",
    "new_x_final_test[:, i] = models[i].predict(x_final_test)"
   ]
  },
  {
   "cell_type": "code",
   "execution_count": 16,
   "metadata": {
    "collapsed": false
   },
   "outputs": [],
   "source": [
    "new_x[:, 3] = new_x[:, 1]\n",
    "new_x_final_test[:, 3] = new_x_final_test[:, 1]"
   ]
  },
  {
   "cell_type": "code",
   "execution_count": 40,
   "metadata": {
    "collapsed": false
   },
   "outputs": [
    {
     "name": "stdout",
     "output_type": "stream",
     "text": [
      "hi\n",
      "hi\n"
     ]
    }
   ],
   "source": [
    "# Fit SVM model with C = 1000\n",
    "\n",
    "model_svm = svm.SVC(C=1000)\n",
    "\n",
    "model_svm.fit(new_x, y_train) \n",
    "\n",
    "y_pred_svm = model_svm.predict(new_x_final_test)\n"
   ]
  },
  {
   "cell_type": "code",
   "execution_count": 41,
   "metadata": {
    "collapsed": false
   },
   "outputs": [
    {
     "data": {
      "text/plain": [
       "33149"
      ]
     },
     "execution_count": 41,
     "metadata": {},
     "output_type": "execute_result"
    }
   ],
   "source": [
    "len(y_pred_svm)"
   ]
  },
  {
   "cell_type": "code",
   "execution_count": 42,
   "metadata": {
    "collapsed": true
   },
   "outputs": [],
   "source": [
    "feature_list = ['label']\n",
    "SVM1 = pd.DataFrame(y_pred_svm.astype(int), columns=feature_list)\n",
    "SVM1.index = range(1, len(y_pred_svm)+1)\n",
    "SVM1.to_csv(\"SVM2.csv\", sep=',')"
   ]
  },
  {
   "cell_type": "code",
   "execution_count": null,
   "metadata": {
    "collapsed": true
   },
   "outputs": [],
   "source": [
    "# Size of the data set\n",
    "n = x.shape[0]\n",
    "\n",
    "# No. of subsamples\n",
    "num_samples = 20\n",
    "for i in range(num_samples):\n",
    "\n",
    "    # Generate a random subsample of data points\n",
    "    # This is the bootstrap\n",
    "    perm = np.random.randint(low=0, high=n, size=n) # Generate a list of indices 0 to n and permute it    \n",
    "    x_subsample = x[perm]\n",
    "    y_subsample = y[perm] \n",
    "    \n",
    "    # Split the dataset: first 20% into training and remaining for validation\n",
    "#     cutoff = round(n*0.2)\n",
    "    cutoff = 10000\n",
    "    x_train = x_subsample[:cutoff, :]\n",
    "    y_train = y_subsample[:cutoff]\n",
    "    x_valid = x_subsample[cutoff:, :]\n",
    "    y_valid = y_subsample[cutoff:]"
   ]
  },
  {
   "cell_type": "code",
   "execution_count": null,
   "metadata": {
    "collapsed": true
   },
   "outputs": [],
   "source": [
    "#### STANDARDIZATION OF PREDICTORS ####\n",
    "# Check for 0 standard deviation\n",
    "# If std = 0, change it to 1 to avoid NaN in standardization\n",
    "x_std = x.std(axis=0)\n",
    "x_std[x_std == 0]=1\n",
    "\n",
    "# Standardize parameters\n",
    "x = (x - x.mean(axis=0))/x_std\n",
    "x_test = (x_test - x.mean(axis=0))/x_std"
   ]
  },
  {
   "cell_type": "code",
   "execution_count": null,
   "metadata": {
    "collapsed": false
   },
   "outputs": [],
   "source": [
    "############### MODELING AND ANALYSIS ###############\n",
    "\n",
    "# Size of the data set\n",
    "n = x.shape[0]\n",
    "\n",
    "# No. of subsamples\n",
    "num_samples = 20\n",
    "\n",
    "#Set range of penalty parameter lambda\n",
    "lambda_min = -7\n",
    "lambda_max = 7\n",
    "\n",
    "num_lambdas = 15\n",
    "num_predictors = x.shape[1]\n",
    "\n",
    "lambdas= np.linspace(lambda_min,lambda_max, num_lambdas)\n",
    "\n",
    "#Create empty arrays to store accuracy of train, validation, and average accuracy from bootstrapping\n",
    "accuracy_train = np.zeros([num_samples, num_lambdas])\n",
    "accuracy_valid = np.zeros([num_samples, num_lambdas])\n",
    "\n",
    "\n",
    "for i in range(num_samples):\n",
    "\n",
    "    # Generate a random subsample of data points\n",
    "    # This is the bootstrap\n",
    "    perm = np.random.randint(low=0, high=n, size=n) # Generate a list of indices 0 to n and permute it    \n",
    "    x_subsample = x[perm]\n",
    "    y_subsample = y[perm] \n",
    "    \n",
    "    # Split the dataset: first 20% into training and remaining for validation\n",
    "#     cutoff = round(n*0.2)\n",
    "    cutoff = 10000\n",
    "    x_train = x_subsample[:cutoff, :]\n",
    "    y_train = y_subsample[:cutoff]\n",
    "    x_valid = x_subsample[cutoff:, :]\n",
    "    y_valid = y_subsample[cutoff:]\n",
    "\n",
    "\n",
    "\n",
    "     # Fit logistic regression with varying lambda (lasso penalty) on train set\n",
    "    for j in range(lambda_min, lambda_max+1):\n",
    "        reg=LogReg(C=10**j, penalty='l1')\n",
    "        reg.fit(x_train, y_train)\n",
    "        accuracy_train[i,j+7] = reg.score(x_train, y_train)\n",
    "        accuracy_valid[i,j+7] = reg.score(x_valid, y_valid)\n",
    "    \n",
    "# calculate r-squared mean across five fold for each lambda\n",
    "average_accuracy_train = accuracy_train.mean(axis = 0)\n",
    "average_accuracy_valid = accuracy_valid.mean(axis = 0)\n",
    "    \n",
    "# plot accuracy of training and testing dataset against parameter lambda\n",
    "plt.figure(figsize=(10,5))\n",
    "h = np.log(10**lambdas)\n",
    "plt.plot(h, average_accuracy_train, 'bo-', label = 'train')\n",
    "plt.plot(h, average_accuracy_valid, 'ro-', label = 'validation')\n",
    "plt.title('Accuracy of Logistic regression with Lasso penalty');plt.xlabel('log(C)');plt.ylabel('Accuracy')\n",
    "plt.legend(loc='best')\n",
    "plt.show()"
   ]
  },
  {
   "cell_type": "code",
   "execution_count": 148,
   "metadata": {
    "collapsed": false
   },
   "outputs": [],
   "source": [
    "from sklearn.ensemble import RandomForestClassifier\n",
    "\n",
    "\n",
    "clfForest = RandomForestClassifier()\n",
    "y = y.reshape(len(y),)\n",
    "y.shape\n",
    "\n",
    "# FIT THE TREE \n",
    "clf=clfForest.fit(x, y)\n",
    "\n",
    "training_accuracy = clfForest.score(x, y)\n",
    "y_pred = clfForest.predict(x_test)"
   ]
  },
  {
   "cell_type": "code",
   "execution_count": 158,
   "metadata": {
    "collapsed": false
   },
   "outputs": [],
   "source": [
    "feature_list = ['label']\n",
    "RandomForest1 = pd.DataFrame(y_pred.astype(int), columns=feature_list)\n",
    "RandomForest1.index = range(1, len(x_test)+1)\n",
    "RandomForest1.to_csv(\"RandomForest1.csv\", sep=',')"
   ]
  }
 ],
 "metadata": {
  "anaconda-cloud": {},
  "kernelspec": {
   "display_name": "Python [Root]",
   "language": "python",
   "name": "Python [Root]"
  },
  "language_info": {
   "codemirror_mode": {
    "name": "ipython",
    "version": 2
   },
   "file_extension": ".py",
   "mimetype": "text/x-python",
   "name": "python",
   "nbconvert_exporter": "python",
   "pygments_lexer": "ipython2",
   "version": "2.7.12"
  }
 },
 "nbformat": 4,
 "nbformat_minor": 0
}
