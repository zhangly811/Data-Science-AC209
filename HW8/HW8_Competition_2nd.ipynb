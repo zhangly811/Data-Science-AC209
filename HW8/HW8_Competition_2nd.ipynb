{
 "cells": [
  {
   "cell_type": "code",
   "execution_count": 1,
   "metadata": {
    "collapsed": true
   },
   "outputs": [],
   "source": [
    "import numpy as np\n",
    "import pandas as pd\n",
    "import scipy as sp\n",
    "from sklearn import linear_model\n",
    "from sklearn.decomposition import PCA\n",
    "from sklearn.cross_validation import KFold\n",
    "from sklearn import svm\n",
    "import matplotlib\n",
    "import matplotlib.pyplot as plt\n",
    "from sklearn.linear_model import LogisticRegression as LogReg\n",
    "from sklearn.neighbors import KNeighborsClassifier as KNN\n",
    "from sklearn.ensemble import RandomForestClassifier\n",
    "\n",
    "%matplotlib inline"
   ]
  },
  {
   "cell_type": "code",
   "execution_count": 2,
   "metadata": {
    "collapsed": true
   },
   "outputs": [],
   "source": [
    "#Load the data\n",
    "\n",
    "x = np.loadtxt('datasets/train_predictors.txt', delimiter = ',')\n",
    "\n",
    "y = np.loadtxt('datasets/train_labels.txt', delimiter = ',')\n",
    "\n",
    "x_final_test = np.loadtxt('datasets/test_predictors.txt', delimiter = ',')"
   ]
  },
  {
   "cell_type": "code",
   "execution_count": 20,
   "metadata": {
    "collapsed": false
   },
   "outputs": [
    {
     "name": "stdout",
     "output_type": "stream",
     "text": [
      "0.993888520727\n",
      "0.00611147927251\n",
      "0.413636363636\n",
      "0.993373094765\n",
      "0.00662690523526\n",
      "0.6125\n",
      "0.993471110893\n",
      "0.00652888910706\n",
      "0.76821192053\n",
      "0.992967987777\n",
      "0.00703201222318\n",
      "0.782608695652\n"
     ]
    }
   ],
   "source": [
    "# Size of the data set\n",
    "n = x.shape[0]\n",
    "\n",
    "# No. of subsamples\n",
    "num_samples = 5\n",
    "\n",
    "for percentage in [0.2, 0.4, 0.6, 0.8]:\n",
    "    # Split the dataset: first 20% into training and remaining for validation\n",
    "    cutoff = int(round(n*percentage))\n",
    "\n",
    "\n",
    "    # for i in range(num_samples):\n",
    "\n",
    "    # Generate a random subsample of data points\n",
    "    # This is the bootstrap\n",
    "    perm = np.random.randint(low=0, high=n, size=n) # Generate a list of indices 0 to n and permute it    \n",
    "    x_subsample = x[perm]\n",
    "    y_subsample = y[perm] \n",
    "\n",
    "    x_train = x_subsample[:cutoff, :]\n",
    "    y_train = y_subsample[:cutoff]\n",
    "    x_valid = x_subsample[cutoff:, :]\n",
    "    y_valid = y_subsample[cutoff:]\n",
    "\n",
    "   \n",
    "\n",
    "    model_rf = RandomForestClassifier()\n",
    "    # print \"hi\"\n",
    "    model_rf.fit(x_train, y_train)   \n",
    "    # print \"hi\"\n",
    "    y_pred_valid = model_rf.predict(x_valid)\n",
    "    # print \"hi\"\n",
    "    y_pred_rf = model_rf.predict(x_final_test)\n",
    "    # print \"hi\"\n",
    "\n",
    "    predicted_pos = len(y_pred_valid[y_pred_valid == 1])\n",
    "    actural_pos = len(y_valid[y_valid == 1])\n",
    "    addition_y = y_pred_valid + y_valid\n",
    "    true_pos = len(addition_y[addition_y == 2])\n",
    "    p = true_pos/float(predicted_pos)\n",
    "    r = true_pos/float(actural_pos)\n",
    "    f1_score = 2*p*r/(p+r)\n",
    "    print f1_score"
   ]
  },
  {
   "cell_type": "code",
   "execution_count": 6,
   "metadata": {
    "collapsed": false
   },
   "outputs": [
    {
     "data": {
      "text/plain": [
       "False"
      ]
     },
     "execution_count": 6,
     "metadata": {},
     "output_type": "execute_result"
    }
   ],
   "source": [
    "feature_list = ['label']\n",
    "SVM1 = pd.DataFrame(y_pred_svm.astype(int), columns=feature_list)\n",
    "SVM1.index = range(1, len(y_pred_svm)+1)\n",
    "SVM1.to_csv(\"SVM2.csv\", sep=',')"
   ]
  }
 ],
 "metadata": {
  "anaconda-cloud": {},
  "kernelspec": {
   "display_name": "Python [Root]",
   "language": "python",
   "name": "Python [Root]"
  },
  "language_info": {
   "codemirror_mode": {
    "name": "ipython",
    "version": 2
   },
   "file_extension": ".py",
   "mimetype": "text/x-python",
   "name": "python",
   "nbconvert_exporter": "python",
   "pygments_lexer": "ipython2",
   "version": "2.7.12"
  }
 },
 "nbformat": 4,
 "nbformat_minor": 0
}
