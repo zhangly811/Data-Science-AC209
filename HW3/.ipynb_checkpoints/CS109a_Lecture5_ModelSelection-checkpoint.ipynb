{
 "cells": [
  {
   "cell_type": "markdown",
   "metadata": {
    "hide_input": true,
    "nbpresent": {
     "id": "7994cf25-e197-4c79-a6cb-49476b16929a"
    },
    "slideshow": {
     "slide_type": "slide"
    }
   },
   "source": [
    "# Lecture 5. Model Selection, Polynomial Regression\n",
    "--- \n",
    "\n",
    "### CS 109A/AC 209A/STAT 121A Data Science:\n",
    "### Harvard University\n",
    "Fall 2016 <br>\n",
    "Instructors:  P. Protopapas, K. Rader, W. Pan\n",
    "\n",
    "\n"
   ]
  },
  {
   "cell_type": "markdown",
   "metadata": {
    "hide_input": true,
    "nbpresent": {
     "id": "a37cd7fa-c4e6-4e18-beb2-f1cac6469aa7"
    },
    "slideshow": {
     "slide_type": "slide"
    }
   },
   "source": [
    "<br>\n",
    "\n",
    "# Announcements \n",
    "\n",
    "- Back to Northwest Building Room B103\n",
    "- HW1: You should have received grades back. No re-grading requests! Good results \n",
    "- HW2: Is due tonight (11:59 pm)  \n",
    "- HW3: will be posted  **after** the lecture\n"
   ]
  },
  {
   "cell_type": "markdown",
   "metadata": {
    "nbpresent": {
     "id": "94c258fd-8a83-445f-9e86-c353f5625fad"
    },
    "slideshow": {
     "slide_type": "fragment"
    }
   },
   "source": [
    "\n",
    " - No re-grading, no discussions about grades unless you believe there is a technical mistake in grading. \n",
    "      <br>\n",
    "      GRADES ARE FINAL \n",
    " "
   ]
  },
  {
   "cell_type": "code",
   "execution_count": 1,
   "metadata": {
    "collapsed": false,
    "nbpresent": {
     "id": "1ebd84ef-343b-4a16-8f35-7bac94c5bd15"
    },
    "slideshow": {
     "slide_type": "skip"
    }
   },
   "outputs": [],
   "source": [
    "import sys\n",
    "import time\n",
    "\n",
    "def countdown(n):\n",
    "    #print(\"QUIZ TIME\")\n",
    "    for i in range(60*n,0,-1):\n",
    "        time.sleep(1)\n",
    "        sys.stdout.write(str(i)+' ')\n",
    "        sys.stdout.flush()"
   ]
  },
  {
   "cell_type": "markdown",
   "metadata": {
    "nbpresent": {
     "id": "f39cefdb-e879-4801-86b6-66d51e8cd938"
    },
    "slideshow": {
     "slide_type": "slide"
    },
    "variables": {
     "countdown(0)": "<p><strong>NameError</strong>: name &#39;countdown&#39; is not defined</p>\n"
    }
   },
   "source": [
    "# QUIZ TIME\n",
    "{{countdown(0)}}"
   ]
  },
  {
   "cell_type": "code",
   "execution_count": 2,
   "metadata": {
    "code_folding": [
     0
    ],
    "collapsed": false,
    "nbpresent": {
     "id": "38c7ce91-af4f-4019-aa24-503b03e2ebc0"
    },
    "slideshow": {
     "slide_type": "skip"
    }
   },
   "outputs": [],
   "source": [
    "#IMPORTS\n",
    "from ipywidgets import interact,  FloatSlider, RadioButtons\n",
    "import numpy as np \n",
    "import math\n",
    "import matplotlib\n",
    "import matplotlib.pyplot as plt\n",
    "%matplotlib inline\n",
    "from sklearn.linear_model import LinearRegression as Lin_Reg\n",
    "\n",
    "import statsmodels.api as sm\n",
    "import pandas as pd\n",
    "import itertools as it\n",
    "from mpl_toolkits.mplot3d import Axes3D\n",
    "\n",
    "from IPython.display import set_matplotlib_formats\n",
    "set_matplotlib_formats('pdf', 'png')\n",
    "\n"
   ]
  },
  {
   "cell_type": "code",
   "execution_count": 3,
   "metadata": {
    "code_folding": [
     0
    ],
    "collapsed": true,
    "nbpresent": {
     "id": "67bcd302-138d-4a41-a455-95cda963754d"
    },
    "slideshow": {
     "slide_type": "skip"
    }
   },
   "outputs": [],
   "source": [
    "# FONTS ETC \n",
    "font = {'family' : 'serif',\n",
    "        'weight' : 'bold',\n",
    "        'size'   : 16}\n",
    "\n",
    "matplotlib.rc('font', **font)"
   ]
  },
  {
   "cell_type": "markdown",
   "metadata": {
    "nbpresent": {
     "id": "aa7bb932-1b26-4d30-ba0d-b0707ce2de4b"
    },
    "slideshow": {
     "slide_type": "slide"
    }
   },
   "source": [
    "<br>\n",
    "\n",
    "# Outline \n",
    "- ** Select among multiple predictors **\n",
    "    - Forward, Backward, Hybrid\n",
    "    - AIC, BIC, reduced R2, Cp \n",
    "- Polynomial regression\n",
    "    - Formalism \n",
    "    - Select the degree \n",
    "\n",
    "- Revisit SE, p-value and all that jazz  \n",
    "   \n",
    "\n",
    "    \n"
   ]
  },
  {
   "cell_type": "markdown",
   "metadata": {
    "nbpresent": {
     "id": "70f2782d-7389-4572-a186-fe13b4dad467"
    },
    "slideshow": {
     "slide_type": "slide"
    }
   },
   "source": [
    "<br>\n",
    "## Multiple predictors\n",
    "- We will use the  \"blood pressure\" example from the last lecture\n",
    "- Systolic Blood pressure as a function of age, height, weight \n",
    "\n",
    "\n",
    "Select the best subset of predictors out of many \n",
    "\n",
    "\n",
    "** Exhaustive Algorithm: **\n",
    "\n",
    "Let $M_p$ be all models containing $p$ predictors"
   ]
  },
  {
   "cell_type": "markdown",
   "metadata": {
    "nbpresent": {
     "id": "7f492c51-40df-4b04-8e52-a515c53b1275"
    },
    "slideshow": {
     "slide_type": "slide"
    }
   },
   "source": [
    "1. Fit a separate least squares regression of all possible $M_p$ \n",
    "2. Pick the best of $M_p$. Best as the one with the highest $R^2$ \n",
    "3. Select a single best model from among $M_p$ using AIC, BIC or adjusted $R^2$\n",
    "    \n",
    "\n",
    "- M0: `null`\n",
    "- M1: `age, height, weight` \n",
    "- M2: `(age+height), (age+weight), (height+weight)`\n",
    "- M3: `(age+weight+height) `"
   ]
  },
  {
   "cell_type": "code",
   "execution_count": 5,
   "metadata": {
    "code_folding": [
     0
    ],
    "collapsed": false,
    "nbpresent": {
     "id": "15ece0ff-1191-46ac-b7e7-d81a68b75194"
    },
    "slideshow": {
     "slide_type": "slide"
    }
   },
   "outputs": [],
   "source": [
    "#  IMPORT DATA \n",
    "dt = pd.read_csv(\"bloodpressure_male.csv\")\n",
    "age=dt['age'].values\n",
    "weight=dt['weight'].values\n",
    "height=dt['height'].values\n",
    "blood=dt['bloodpressure'].values"
   ]
  },
  {
   "cell_type": "code",
   "execution_count": 6,
   "metadata": {
    "collapsed": false,
    "nbpresent": {
     "id": "e6038223-3839-495c-b236-5d17de9b795f"
    },
    "slideshow": {
     "slide_type": "fragment"
    }
   },
   "outputs": [
    {
     "data": {
      "text/plain": [
       "3"
      ]
     },
     "execution_count": 6,
     "metadata": {},
     "output_type": "execute_result"
    }
   ],
   "source": [
    "\n",
    "data=dt.values.T\n",
    "X = data[:-1].T\n",
    "Y=data[-1]\n",
    "X.shape[1]"
   ]
  },
  {
   "cell_type": "code",
   "execution_count": 7,
   "metadata": {
    "code_folding": [],
    "collapsed": false
   },
   "outputs": [
    {
     "name": "stdout",
     "output_type": "stream",
     "text": [
      "Max in M_ 1 = (0,) R2: 0.568378049861  AIC: 932.185825444\n",
      "Max in M_ 2 = (0, 1) R2: 0.682934751344  AIC: 897.172724812\n",
      "Max in M_ 3 = (0, 1, 2) R2: 0.684017802451  AIC: 898.762119697\n"
     ]
    }
   ],
   "source": [
    "# A LIST OF LISTS (PER SUBGROUP SIZE WE CREATE A LIST)\n",
    "R2_all = []\n",
    "AIC_all = [] \n",
    "BIC_all = [] \n",
    "adjustedR2_all = [] \n",
    "\n",
    "s = set(np.arange(0,X.shape[1]))\n",
    "\n",
    "\n",
    "# FIND THE R2 FOR EACH SUBGROUP PER SUBGROUP SIZE \n",
    "for ss_len in np.arange(1,X.shape[1]+1):\n",
    "    subset_group  = set(it.combinations(s, ss_len))\n",
    "    R2_subset = [] \n",
    "    AIC_subset = [];  BIC_subset = []; adjustedR2_subset = []\n",
    "    for subset in subset_group:\n",
    "        x_subset = X[:, list(subset)]\n",
    "        x_subset = sm.add_constant(x_subset)\n",
    "        \n",
    "        # Fit and evaluate R2\n",
    "        model = sm.OLS(Y, x_subset)\n",
    "        results = model.fit()\n",
    "        \n",
    "        R2_subset.append(results.rsquared)\n",
    "        AIC_subset.append(results.aic)\n",
    "        BIC_subset.append(results.bic)\n",
    "        adjustedR2_subset.append(results.rsquared_adj)\n",
    "    \n",
    "    # MAX R2 PER M_p\n",
    "    print  \"Max in M_\", len(subset), \"=\" ,list(subset_group)[np.argmax(R2_subset)], \"R2:\", np.max(R2_subset), \\\n",
    "        \" AIC:\", AIC_subset[np.argmax(R2_subset)]\n",
    "    R2_all.append(R2_subset) \n",
    "    AIC_all.append(AIC_subset[np.argmax(R2_subset)])\n",
    "    BIC_all.append(BIC_subset[np.argmax(R2_subset)])\n",
    "    adjustedR2_all.append(adjustedR2_subset[np.argmax(R2_subset)])\n",
    "\n",
    "\n",
    "    "
   ]
  },
  {
   "cell_type": "code",
   "execution_count": 8,
   "metadata": {
    "code_folding": [
     0
    ],
    "collapsed": false
   },
   "outputs": [],
   "source": [
    "## PRINT TO BE USED IN THE TABLE IN MARKDOWN \n",
    "# for j in [0,1,2]:\n",
    "#     for i in np.arange(0, len(R2_all[j])):\n",
    "#         print math.ceil(R2_all[j][i]*1000)/1000, \"  | \", \n",
    "\n",
    "# print \"\\n\"\n",
    "# for j in [0,1,2]:     print \"|\", math.ceil(AIC_all[j]*1000)/1000,\n",
    "# print\n",
    "# for j in [0,1,2]:     print \"|\", math.ceil(BIC_all[j]*1000)/1000,\n",
    "# print\n",
    "# for j in [0,1,2]:     print \"|\", math.ceil(adjustedR2_all[j]*1000)/1000,"
   ]
  },
  {
   "cell_type": "markdown",
   "metadata": {
    "nbpresent": {
     "id": "cd151b57-c735-4ca7-b1db-0975a11fdb15"
    },
    "slideshow": {
     "slide_type": "slide"
    }
   },
   "source": [
    "<br>\n",
    "We fit linear model for all of them. \n",
    "\n",
    "| | <span class=\"burk\">age</span> | <span class=\"burk\">weight | <span class=\"burk\">height</span></span> || <span class=\"girk\">age+weight | <span class=\"girk\">age+height</span> |<span class=\"girk\">weight+height</span></span> || age+weight+height |\n",
    " :---:|| :---:|| :---:||| :---:|| :---:|| :---:|| :---:||| :---:| \n",
    "| $R^2$   | 0.083   |  ** 0.569 **    |  0.179   ||  ** 0.683**    |  0.189   |  0.658   ||  ** 0.685  ** "
   ]
  },
  {
   "cell_type": "markdown",
   "metadata": {
    "nbpresent": {
     "id": "6f0a4123-2f7a-4b97-a95e-9746657487d3"
    },
    "slideshow": {
     "slide_type": "slide"
    }
   },
   "source": [
    "<br>\n",
    "And now we need to compare these three base on a different criteria \n",
    "\n",
    "|| **age**  | age+weight  | age+weight+height |\n",
    "| :---: | : ---: | : ---: | : ---: | \n",
    "| $R^2$ |  0.569 |    0.683     | _0.685_ |\n",
    "| AIC | 932.186 | ** 897.173 **  | 898.763 |\n",
    "| BIC | 937.761 | ** 905.536  ** | 909.913 |\n",
    "| Adjusted $R^2$ |  0.565 | ** 0.678 **  | 0.676\n"
   ]
  },
  {
   "cell_type": "markdown",
   "metadata": {
    "nbpresent": {
     "id": "e213cf74-c25f-4446-87e8-07d2eb0f3b99"
    },
    "slideshow": {
     "slide_type": "slide"
    }
   },
   "source": [
    "How many possibilities? If we have $p$ predictors, then: \n",
    "\n",
    "$$ p +  {p \\choose 2 } + {p \\choose 3} + \\ldots +  {p \\choose p } =2^p $$\n",
    "\n",
    " \n"
   ]
  },
  {
   "cell_type": "markdown",
   "metadata": {
    "nbpresent": {
     "id": "4ee5fd2e-bfdd-4949-9a6a-994bc4a93e1e"
    },
    "slideshow": {
     "slide_type": "slide"
    }
   },
   "source": [
    "## Stepwise selection\n",
    "\n",
    "While the best subset selection procedure considers all $2^p$ possible models containing subsets of the $p$ predictors, stepwise considers a much smaller set of models.\n",
    "\n",
    "Three different scenarios: \n",
    "\n",
    "- Forward stepwise\n",
    "- Backward stepwise \n",
    "- Hybrid \n",
    "\n",
    "\n"
   ]
  },
  {
   "cell_type": "markdown",
   "metadata": {
    "collapsed": false,
    "nbpresent": {
     "id": "d75c0106-078d-4e93-b132-60f3d1e82f38"
    },
    "slideshow": {
     "slide_type": "slide"
    }
   },
   "source": [
    "###  Forward stepwise selection (blood pressure example)\n",
    "\n",
    "Forward approach\n",
    "\n",
    "1. Start with null and calculate $M_0$\n",
    "\n",
    "2. For all $k=1 \\ldots p-1:$\n",
    "    - Choose which of the $p-k+1$ model is best wrt $R^2$ as the $M_k$\n",
    "\n",
    "3. Select the best among $M_p$ \n",
    "\n",
    "\n"
   ]
  },
  {
   "cell_type": "code",
   "execution_count": 10,
   "metadata": {
    "code_folding": [],
    "collapsed": false
   },
   "outputs": [
    {
     "data": {
      "text/plain": [
       "5"
      ]
     },
     "execution_count": 10,
     "metadata": {},
     "output_type": "execute_result"
    }
   ],
   "source": [
    "#  IMPORT DATA \n",
    "dt = pd.read_csv(\"bloodpressure_5pred.csv\")\n",
    "age=dt['age'].values\n",
    "weight=dt['weight'].values\n",
    "height=dt['height'].values\n",
    "vo2=dt['vo2'].values\n",
    "rhr=dt['rhr'].values\n",
    "\n",
    "\n",
    "blood=dt['bloodpressure'].values\n",
    "data=dt.values.T\n",
    "X = data[:-1].T\n",
    "Y=data[-1]\n",
    "X.shape[1]"
   ]
  },
  {
   "cell_type": "code",
   "execution_count": 11,
   "metadata": {
    "collapsed": false,
    "nbpresent": {
     "id": "51129df7-e1da-42ff-8a42-1ecf48c04324"
    },
    "slideshow": {
     "slide_type": "skip"
    }
   },
   "outputs": [
    {
     "name": "stdout",
     "output_type": "stream",
     "text": [
      "1 Max in M_ 1 = (0,) R2: 0.470853548307  AIC: 935.811020518\n",
      "0 Max in M_ 2 = (0, 1) R2: 0.561817659446  AIC: 915.175406903\n",
      "1 Max in M_ 3 = (0, 1, 3) R2: 0.580886325278  AIC: 911.836253719\n",
      "0 Max in M_ 4 = (0, 1, 3, 4) R2: 0.580977842596  AIC: 913.810047756\n",
      "0 Max in M_ 5 = (0, 1, 2, 3, 4) R2: 0.581072783629  AIC: 915.782855363\n"
     ]
    }
   ],
   "source": [
    "# Run all possible combibations and examine the R2 \n",
    "#A LIST OF LISTS (PER SUBGROUP SIZE WE CREATE A LIST)\n",
    "R2_all = []\n",
    "AIC_all = [] \n",
    "BIC_all = [] \n",
    "adjustedR2_all = [] \n",
    "\n",
    "s = set(np.arange(0,X.shape[1]))\n",
    "\n",
    "M_all = []\n",
    "M_p_pred = list()\n",
    "all_allowed_subset_group = []\n",
    "\n",
    "# FIND THE R2 FOR EACH SUBGROUP PER SUBGROUP SIZE \n",
    "for ss_len in np.arange(1,X.shape[1]+1):           # ITERATE OVER ALL GROUP SIZES\n",
    "    subset_group  = set(it.combinations(s, ss_len))   # GENERATE ALL COMBINATIONS\n",
    "    #print \"\\ngroup length and group:\", ss_len, subset_group\n",
    "    allowed_subset_group = []\n",
    "    # INITIALIZE R2 PER GROUP \n",
    "    R2_subset = [] \n",
    "    AIC_subset = [];  BIC_subset = []; adjustedR2_subset = []\n",
    "   \n",
    "    # INTERATE OVER COMBINATIONS\n",
    "    for subset in subset_group:\n",
    "        \n",
    "        # SELECT ONLY THE SUBSETS THAT CONTAIN THE BEST IN M_p-1 \n",
    "        if set(M_p_pred) < set(subset): \n",
    "            #print \"M_P:\",M_p_pred ,subset\n",
    "            x_subset = X[:, list(subset)]\n",
    "            x_subset = sm.add_constant(x_subset)\n",
    "\n",
    "            # Fit and evaluate R2\n",
    "            model = sm.OLS(Y, x_subset)\n",
    "            results = model.fit()\n",
    "\n",
    "            R2_subset.append(results.rsquared)\n",
    "            AIC_subset.append(results.aic)\n",
    "            BIC_subset.append(results.bic)\n",
    "            adjustedR2_subset.append(results.rsquared_adj)\n",
    "            allowed_subset_group.append((subset))\n",
    "            all_allowed_subset_group.append((subset))\n",
    "            #print 'allowed', allowed_subset_group\n",
    "        \n",
    "    # MAX R2 PER M_p\n",
    "    idx= np.argmax(R2_subset)\n",
    "    M_p_pred =list(allowed_subset_group)[idx]\n",
    "    print idx, \"Max in M_\", len(subset), \"=\" , M_p_pred , \"R2:\", np.max(R2_subset), \\\n",
    "        \" AIC:\", AIC_subset[np.argmax(R2_subset)]\n",
    "\n",
    "\n",
    "    # CREATE A SUPER SET \n",
    "    M_all.append(set(M_p_pred))\n",
    "   \n",
    "\n",
    "    \n",
    "    R2_all.append(R2_subset) \n",
    "    AIC_all.append(AIC_subset[np.argmax(R2_subset)])\n",
    "    BIC_all.append(BIC_subset[np.argmax(R2_subset)])\n",
    "    adjustedR2_all.append(adjustedR2_subset[np.argmax(R2_subset)])\n"
   ]
  },
  {
   "cell_type": "code",
   "execution_count": 12,
   "metadata": {
    "code_folding": [
     0
    ],
    "collapsed": false
   },
   "outputs": [],
   "source": [
    "# ## TO BE USED ONLY FOR GENERATING THE TABLE IN MARKDOWN - IGNORE\n",
    "\n",
    "\n",
    "\n",
    "# q=set(it.combinations(s, 1))\n",
    "# idx= np.array(list(q)).T[0]\n",
    "# predictor_names = ['age', 'weight', 'height', 'vo2', 'rhr']\n",
    "\n",
    "# predictor_names[idx[0]]\n",
    "\n",
    "\n",
    "# for g in all_allowed_subset_group:\n",
    "#     for i in np.arange(0,len(g)):\n",
    "#         ##print  predictor_names[ g[i]], \n",
    "#     print \" | \" , \n",
    "\n",
    "# print \"\\n\"\n",
    "# for j in [0,1,2,3,4]:\n",
    "#     for i in np.arange(0, len(R2_all[j])):\n",
    "#         ##print math.ceil(R2_all[j][i]*1000)/1000, \"  | \", \n",
    "#     ##print \"\\n\"\n",
    "\n",
    "# ##print \"--\\n\"\n",
    "# ##for j in [0,1,2,3,4]:     print \"|\", math.ceil(AIC_all[j]*1000)/1000,\n",
    "# ##print\n",
    "# ##for j in [0,1,2,3,4]:     print \"|\", math.ceil(BIC_all[j]*1000)/1000,\n",
    "# ##print\n",
    "# ##for j in [0,1,2,3,4]:     print \"|\", math.ceil(adjustedR2_all[j]*1000)/1000,"
   ]
  },
  {
   "cell_type": "markdown",
   "metadata": {
    "nbpresent": {
     "id": "53eb3779-1b24-498b-b195-11fbf4d35b15"
    },
    "slideshow": {
     "slide_type": "slide"
    }
   },
   "source": [
    "###  Forward stepwise selection (blood pressure example)\n",
    "\n",
    "Use a slightly different dataset that now contains 5 predictors (we add resting heart rate and VO2max) bloodpressure_5pred.csv\n",
    "\n",
    "Forward approach: \n",
    "\n",
    "1.Start with null and calculate $M_0$\n",
    "\n",
    "2.Choose which of the five is best wrt $R^2$ as the $M_1$\n",
    "\n",
    "| | height  | age  | vo2  | weight  | rhr | \n",
    "| ---| :---:|| :---:|| :---:|| :---:|| :---:|\n",
    "| $R^2$ | 0.025   |  ** 0.471**   | 0.025    |  0.059   |  0.001   |   \n",
    "<br> $M_1=$**age** <br><br>\n",
    "\n",
    "3.Try now two predictors:\n",
    "\n",
    "| | age weight  |  age rhr  |  age vo2  |  age height  | | \n",
    "| ---| :---:|| :---:|| :---:|| :---:|| :---:|\n",
    "| $R^2$ | ** 0.561** | 0.412  | 0.481 | 0.314  | \n",
    "<br> $M_2=$ (**age weight**) <br><br>"
   ]
  },
  {
   "cell_type": "markdown",
   "metadata": {
    "nbpresent": {
     "id": "5663b6b1-ed48-4648-af20-22c19a90999b"
    },
    "slideshow": {
     "slide_type": "slide"
    }
   },
   "source": [
    "4.Three predictor:\n",
    "\n",
    "| | age weight height  |  age weight vo2  |  age weight rhr     | \n",
    "| ---| :---:|| :---:|| :---:|\n",
    "| $R^2$ |  0.518 | **0.617**  | 0.481 | \n",
    "\n",
    "\n",
    "<br> $M_3$= (**age weight vo2**)<br><br>\n",
    "\n",
    "5.Four predictors:\n",
    "\n",
    "| |   age weight vo2 rhr  |  age weight height vo2  | \n",
    "| ---| :---:|| :---:|| :---:|\n",
    "| $R^2$ |  **0.668** | 0.617  | \n",
    "\n",
    "<br> $M_4$= (**age weight vo2 rhr**)<br><br>\n",
    "\n",
    "\n",
    "6.All predictors\n",
    "\n",
    "| |  weight age vo2 resthr height | \n",
    "| ---| :---:|\n",
    "| $R^2$ |  0.671 | \n",
    "<br> $M_5$= (**age weight height vo2 rhr**)<br><br>"
   ]
  },
  {
   "cell_type": "markdown",
   "metadata": {
    "nbpresent": {
     "id": "1eb54698-02a2-4230-a161-318308cdf297"
    },
    "slideshow": {
     "slide_type": "slide"
    }
   },
   "source": [
    "Compare $M_k$ using AIC, Adjusted $R^2$ \n",
    "\n",
    "\n",
    "|| age  | age+weight  | age+weight+vo2 | age+weight+vo2 + resthr | age+weight+vo2 + resthr + height | \n",
    "| :---: | : ---: | : ---: | : ---: | :---: | :---:| \n",
    "| AIC |935.812 | 915.176 | ** 911.837 ** | 913.811 | 915.783 | \n",
    "| BIC | 941.387 | 923.538 | ** 922.987 **  | 927.748 | 932.508 \n",
    "\n",
    "\n",
    "\n",
    "\n"
   ]
  },
  {
   "cell_type": "markdown",
   "metadata": {
    "nbpresent": {
     "id": "7fd66cc7-366b-436b-b0b0-823a63745949"
    }
   },
   "source": [
    "### Backward selection\n",
    "\n",
    "\n",
    "1. Start with the full model, which contains all p predictors $M_p$\n",
    "\n",
    "2. For $k=p,p−1,\\ldots,1$\n",
    "    Consider all k models that contain all but one of the predictors in $M_k$, for a total of k − 1 predictors.\n",
    "    - Choose which of the $k-1$ model is best wrt $R^2$ as the $M_k$\n",
    "\n",
    "3. Select the best among $M_p$ "
   ]
  },
  {
   "cell_type": "markdown",
   "metadata": {
    "nbpresent": {
     "id": "9573bab5-e474-4490-9555-9161c7a23497"
    },
    "slideshow": {
     "slide_type": "slide"
    }
   },
   "source": [
    "<br>\n",
    "\n",
    "# Outline \n",
    "- Select among multiple predictors \n",
    "    - Forward, Backward, Hybrid\n",
    "    - ** AIC, BIC, reduced R2, Cp ** \n",
    "- Polynomial regression\n",
    "    - Formalism \n",
    "    - Select the degree \n",
    "    \n",
    "- Interaction terms \n",
    "\n",
    "- Revisit SE, p-value and all that jazz  \n",
    "   \n",
    "\n",
    "    \n"
   ]
  },
  {
   "cell_type": "markdown",
   "metadata": {
    "nbpresent": {
     "id": "2c638bc1-e41a-490c-a547-994a92ee6216"
    }
   },
   "source": [
    "## AIC, BIC, Adjusted $R^2$ and $C_p$\n",
    "\n",
    "\n",
    "\n",
    "$$ C_p = \\frac{1}{n} \\left( RSS + 2 d \\hat{\\sigma}^2 \\right) $$\n",
    "\n",
    "Akaike information criterion\n",
    "$$ AIC = \\frac{1}{n \\hat{\\sigma}^2 } \\left( RSS + 2 d \\hat{\\sigma}^2 \\right) $$\n",
    "\n",
    "Bayesian information criterion\n",
    "$$ BIC = \\frac{1}{n  } \\left( RSS + \\log(n) d \\hat{\\sigma}^2 \\right) $$\n",
    "\n",
    "Adjusted $R^2$ \n",
    "\n",
    "$$ {\\rm Adjusted} R^2 = 1 - \\frac{RSS/(n-d-1)}{TSS/(n-1)} $$\n"
   ]
  },
  {
   "cell_type": "markdown",
   "metadata": {
    "nbpresent": {
     "id": "45d55dec-4db3-494b-82b3-88662c50b456"
    }
   },
   "source": [
    "<br>\n",
    "\n",
    "# Outline \n",
    "- Select among multiple predictors \n",
    "    - Forward, Backward, Hybrid\n",
    "    - AIC, BIC, reduced R2, Cp  \n",
    "- ** Polynomial regression **\n",
    "    - Formalism \n",
    "    - Select the degree \n",
    "    \n",
    "- Interaction terms \n",
    "\n",
    "- Revisit SE, p-value and all that jazz  \n",
    "   \n",
    "\n",
    "    \n"
   ]
  },
  {
   "cell_type": "markdown",
   "metadata": {
    "collapsed": false,
    "nbpresent": {
     "id": "958a013e-c7fe-42d5-90f4-23edc530348c"
    },
    "slideshow": {
     "slide_type": "slide"
    }
   },
   "source": [
    "# Polynomial Regression\n",
    "\n",
    "The easiest/simplest way to extend linear regression to settings in which the relationship between the predictors and the response is non-linear is to replace the standard linear model\n",
    "\n",
    "$$y_i = β_0 + β_1 x_i + ε_i$$\n",
    "\n",
    "with \n",
    "$$y_i =β0 +β_1x_i +β_2x^2_i +β_3x^3_i +...+β_d x^d_i +ε_i$$\n",
    "\n",
    "The coefficients can be easily estimated using least squares linear regression because this is just a standard linear model with predictors $x_i, x^2_i , x^3_i , \\ldots , x^d_i$. "
   ]
  },
  {
   "cell_type": "code",
   "execution_count": 14,
   "metadata": {
    "collapsed": false,
    "nbpresent": {
     "id": "3511fc3f-8195-43ed-8b8a-fe7edb354ba1"
    },
    "slideshow": {
     "slide_type": "slide"
    },
    "variables": {
     "round(R2[ 0 ],2)": "0.0"
    }
   },
   "outputs": [],
   "source": [
    "#data = pd.read_csv('Lect5_poly1_train.csv')\n",
    "data = pd.read_csv('Lect5_poly1_train_small.csv')\n",
    "X_train = data['X']\n",
    "Y_train = data['Y']\n",
    "\n",
    "#data = pd.read_csv('Lect5_poly1_test.csv')\n",
    "data = pd.read_csv('Lect5_poly1_test_small.csv')\n",
    "X_test = data['X']\n",
    "Y_test = data['Y']"
   ]
  },
  {
   "cell_type": "markdown",
   "metadata": {
    "nbpresent": {
     "id": "7e1dda6c-b795-4654-8d4b-28004a3c96ac"
    },
    "slideshow": {
     "slide_type": "slide"
    }
   },
   "source": [
    "# Fit it "
   ]
  },
  {
   "cell_type": "code",
   "execution_count": 15,
   "metadata": {
    "collapsed": false,
    "nbpresent": {
     "id": "8c874f2d-9146-4f47-9008-6de533f7fd44"
    },
    "slideshow": {
     "slide_type": "skip"
    }
   },
   "outputs": [],
   "source": [
    " \n",
    "\n",
    "def polynomial_regression_fit(x, y, degrees):\n",
    "    # Create the poly terms for x,x^2 .. \n",
    "    \n",
    "    n= np.size(y)   # data size \n",
    "    x_poly = np.zeros([n, degrees]) # poly degree \n",
    "\n",
    "    for d in range(1, degrees +1):\n",
    "        x_poly[:, d - 1] = np.power(x, d)  # adding terms \n",
    "\n",
    "    Xt=sm.add_constant(x_poly)\n",
    "    model=sm.OLS(y,Xt)\n",
    "    model_results=model.fit()\n",
    "    return model_results, Xt\n",
    "\n",
    "\n",
    "def polynomial_regression_predict(params, degrees, x):\n",
    "    # # Create the poly terms for x,x^2 ..\n",
    "    n = x.shape[0]\n",
    "    x_poly = np.zeros([n, degrees])\n",
    "    for d in range(1, degrees + 1):\n",
    "        x_poly[:, d - 1] = np.power(x, d)\n",
    "    Xt=sm.add_constant(x_poly, has_constant='add')\n",
    "   \n",
    "    # Predict y-vals\n",
    "    y_pred = np.dot(params,Xt.T)\n",
    "        \n",
    "    return y_pred\n"
   ]
  },
  {
   "cell_type": "code",
   "execution_count": 16,
   "metadata": {
    "collapsed": false,
    "nbpresent": {
     "id": "43a58a89-e5bc-4f85-831e-d59bc273a39d"
    },
    "slideshow": {
     "slide_type": "skip"
    },
    "variables": {
     "round(a,1)": "0.1"
    }
   },
   "outputs": [],
   "source": [
    "def plotit1(degrees=20):\n",
    "    plt.figure(figsize=(14,8))\n",
    "    for d in range(1, degrees +1):\n",
    "        model_results, x_poly= polynomial_regression_fit(X_test,Y_test, degrees)\n",
    "    y_hat=np.dot(model_results.params,x_poly.T)\n",
    "    plt.plot(X_test,y_hat, 'b', label='poly '+str(degrees) + ' degree')\n",
    "    plt.plot(X_test,Y_test, 'ro')\n",
    "    plt.xlabel('X'); plt.ylabel('Y')\n",
    "    plt.legend(loc='best')\n",
    "    "
   ]
  },
  {
   "cell_type": "code",
   "execution_count": 17,
   "metadata": {
    "collapsed": false
   },
   "outputs": [
    {
     "data": {
      "text/plain": [
       "<function __main__.plotit1>"
      ]
     },
     "execution_count": 17,
     "metadata": {},
     "output_type": "execute_result"
    },
    {
     "data": {
      "application/pdf": "[encoded data removed]",
      "image/png": "[encoded data removed]",
      "text/plain": [
       "<matplotlib.figure.Figure at 0x11a4559d0>"
      ]
     },
     "metadata": {},
     "output_type": "display_data"
    }
   ],
   "source": [
    "interact(plotit1, degrees=(1,20,1))\n",
    "\n"
   ]
  },
  {
   "cell_type": "code",
   "execution_count": 18,
   "metadata": {
    "collapsed": false,
    "nbpresent": {
     "id": "82f46f8b-7580-4235-8537-fcc062667fc1"
    },
    "slideshow": {
     "slide_type": "slide"
    }
   },
   "outputs": [
    {
     "data": {
      "text/plain": [
       "<matplotlib.legend.Legend at 0x11ec41ad0>"
      ]
     },
     "execution_count": 18,
     "metadata": {},
     "output_type": "execute_result"
    },
    {
     "data": {
      "application/pdf": "[encoded data removed]",
      "image/png": "[encoded data removed]",
      "text/plain": [
       "<matplotlib.figure.Figure at 0x11ea3fb50>"
      ]
     },
     "metadata": {},
     "output_type": "display_data"
    }
   ],
   "source": [
    "\n",
    "plt.figure(figsize=(12,8))\n",
    "degrees=12\n",
    "R2 = np.zeros([ degrees+1,1])\n",
    "R2adjusted = np.zeros([degrees+1,1]) \n",
    "    \n",
    "for d in range(1, degrees +1):\n",
    "    model_results, _= polynomial_regression_fit(X_train,Y_train, d)\n",
    "    R2[d] = model_results.rsquared\n",
    "    R2adjusted[d] = model_results.rsquared_adj\n",
    "\n",
    "plt.plot(R2, 'bo-', label= r'$R^2$')\n",
    "plt.plot(R2adjusted, 'r*-.', label='Adjusted $R^2$')\n",
    "plt.xlabel('degree of polynomial'); plt.ylabel(r'$R^2$ and Adj $R^2$')\n",
    "plt.title('Polynomial regression on training data')\n",
    "plt.legend(loc='best')"
   ]
  },
  {
   "cell_type": "code",
   "execution_count": 19,
   "metadata": {
    "collapsed": false
   },
   "outputs": [
    {
     "data": {
      "text/plain": [
       "<matplotlib.figure.Figure at 0x11ea3f590>"
      ]
     },
     "metadata": {},
     "output_type": "display_data"
    }
   ],
   "source": [
    "plt.savefig('R2_R2adj_poly.png')"
   ]
  },
  {
   "cell_type": "markdown",
   "metadata": {
    "nbpresent": {
     "id": "519ebd57-4f95-4c1a-af79-09fd4d8804f4"
    },
    "slideshow": {
     "slide_type": "slide"
    }
   },
   "source": [
    "## Polynomial fit (more) \n",
    "\n",
    "We will split the data into train/test and fit on the train data and try on the test data.\n",
    "\n",
    "Let's try the fit on the test set. \n"
   ]
  },
  {
   "cell_type": "code",
   "execution_count": 20,
   "metadata": {
    "collapsed": false
   },
   "outputs": [
    {
     "data": {
      "application/pdf": "[encoded data removed]",
      "image/png": "[encoded data removed]",
      "text/plain": [
       "<matplotlib.figure.Figure at 0x10bc76090>"
      ]
     },
     "metadata": {},
     "output_type": "display_data"
    }
   ],
   "source": [
    "@interact(degrees=(1,20,1))\n",
    "def plotit(degrees=15):\n",
    "    plt.figure(figsize=(12,8))\n",
    "    \n",
    "    model_results, x_poly= polynomial_regression_fit(X_train,Y_train, degrees)\n",
    "    y_hat=np.dot(model_results.params,x_poly.T)\n",
    "    plt.plot(X_test,y_hat, 'b', label='poly '+str(degrees) + ' degree' + r' $R^2=$ ' +\n",
    "                     str(np.around(model_results.rsquared,3) ))\n",
    "    plt.plot(X_test,Y_test, 'r+', markersize=20, label='testing set')\n",
    "    plt.plot(X_train,Y_train, 'ko', label='training set')\n",
    "    plt.xlabel('X'); plt.ylabel('Y')\n",
    "    plt.legend(loc='best')\n",
    "    plt.savefig('train_test.png')\n"
   ]
  },
  {
   "cell_type": "markdown",
   "metadata": {
    "nbpresent": {
     "id": "bb34f89b-85e1-49aa-b4ac-7db42ffee278"
    },
    "slideshow": {
     "slide_type": "slide"
    }
   },
   "source": [
    "### Examine the $R^2$ as a function of degree for the test and train \n",
    "\n"
   ]
  },
  {
   "cell_type": "code",
   "execution_count": 24,
   "metadata": {
    "collapsed": false,
    "nbpresent": {
     "id": "1224f93a-0132-4304-a107-1b9a383d5157"
    },
    "slideshow": {
     "slide_type": "slide"
    }
   },
   "outputs": [],
   "source": [
    "# \n",
    "\n",
    "\n",
    "data = pd.read_csv('Lect5_poly1_train.csv')\n",
    "#data = pd.read_csv('Lect5_poly1_train_small.csv')\n",
    "X_train = data['X']\n",
    "Y_train = data['Y']\n",
    "\n",
    "data = pd.read_csv('Lect5_poly1_test.csv')\n",
    "X_test = data['X']\n",
    "Y_test = data['Y']"
   ]
  },
  {
   "cell_type": "code",
   "execution_count": 25,
   "metadata": {
    "collapsed": false,
    "nbpresent": {
     "id": "4d97761f-af08-4a48-b04a-951b5009269c"
    },
    "slideshow": {
     "slide_type": "skip"
    }
   },
   "outputs": [],
   "source": [
    "degrees=20\n",
    "R2_test = np.zeros([ degrees+1,1])\n",
    "R2 = np.zeros([ degrees+1,1])\n",
    "AIC = np.zeros([ degrees+1,1])\n",
    "BIC = np.zeros([ degrees+1,1])\n",
    "R2adj = np.zeros([ degrees+1,1])\n",
    "\n",
    "for d in range(1, degrees +1):\n",
    "    model_results, _ = polynomial_regression_fit(X_train,Y_train, d)\n",
    "    R2[d] = model_results.rsquared\n",
    "    \n",
    "    y_hat=polynomial_regression_predict(model_results.params, d, X_test)\n",
    "    RSS = np.sum((Y_test-y_hat)**2)\n",
    "    TSS = np.sum((Y_test-np.mean(Y_test))**2)\n",
    "    R2_test[d] = 1.0-RSS/TSS\n",
    "    AIC[d] = model_results.aic\n",
    "    BIC[d] = model_results.bic\n",
    "    R2adj[d]=model_results.rsquared_adj\n",
    "    "
   ]
  },
  {
   "cell_type": "code",
   "execution_count": 26,
   "metadata": {
    "collapsed": false,
    "nbpresent": {
     "id": "1c1961d9-7c65-4364-9e27-34d22abe04bc"
    },
    "slideshow": {
     "slide_type": "slide"
    }
   },
   "outputs": [
    {
     "data": {
      "application/pdf": "[encoded data removed]",
      "image/png": "[encoded data removed]",
      "text/plain": [
       "<matplotlib.figure.Figure at 0x10bcd9e90>"
      ]
     },
     "metadata": {},
     "output_type": "display_data"
    }
   ],
   "source": [
    "plt.figure(figsize=(12,8))\n",
    "plt.plot(R2, 'bo-', label=r'$R^2$ Training set')\n",
    "plt.plot(R2_test, 'ro-', label=r'$R^2$ Testing set')\n",
    "plt.xlabel('degree of polynomial'); plt.ylabel(r'$R^2$')\n",
    "plt.xlabel('degree of polynomial'); plt.ylabel(r'$R^2$')\n",
    "plt.legend(loc='best')\n",
    "plt.grid()\n",
    "plt.savefig('CrossValidation_poly.png')"
   ]
  },
  {
   "cell_type": "markdown",
   "metadata": {
    "nbpresent": {
     "id": "fa12c6d0-491a-4887-a37e-7d2d7a7a065a"
    }
   },
   "source": [
    "### Also lets look at AIC etc "
   ]
  },
  {
   "cell_type": "code",
   "execution_count": 27,
   "metadata": {
    "collapsed": false,
    "nbpresent": {
     "id": "18947656-c833-4ac8-8611-a17a0165b196"
    },
    "slideshow": {
     "slide_type": "slide"
    }
   },
   "outputs": [
    {
     "data": {
      "application/pdf": "[encoded data removed]",
      "image/png": "[encoded data removed]",
      "text/plain": [
       "<matplotlib.figure.Figure at 0x11ff50710>"
      ]
     },
     "metadata": {},
     "output_type": "display_data"
    }
   ],
   "source": [
    "plt.figure(figsize=(12,8))\n",
    "plt.plot(AIC[1:11], 'bo-', label=r'$R^2$ AIC training set')\n",
    "plt.plot(BIC[1:11], 'ro-', label=r'$R^2$ BIC training set')\n",
    "\n",
    "\n",
    "plt.xlabel('degree of polynomial'); plt.ylabel(r'$AIC/BIC$')\n",
    "plt.legend(loc='best')\n",
    "plt.grid()"
   ]
  },
  {
   "cell_type": "code",
   "execution_count": 28,
   "metadata": {
    "collapsed": false,
    "nbpresent": {
     "id": "38a9cdec-4151-4a92-9fae-32f52e5d208a"
    },
    "slideshow": {
     "slide_type": "skip"
    }
   },
   "outputs": [
    {
     "data": {
      "text/html": [
       "<table class=\"simpletable\">\n",
       "<caption>OLS Regression Results</caption>\n",
       "<tr>\n",
       "  <th>Dep. Variable:</th>            <td>Y</td>        <th>  R-squared:         </th> <td>   0.900</td>\n",
       "</tr>\n",
       "<tr>\n",
       "  <th>Model:</th>                   <td>OLS</td>       <th>  Adj. R-squared:    </th> <td>   0.844</td>\n",
       "</tr>\n",
       "<tr>\n",
       "  <th>Method:</th>             <td>Least Squares</td>  <th>  F-statistic:       </th> <td>   16.11</td>\n",
       "</tr>\n",
       "<tr>\n",
       "  <th>Date:</th>             <td>Sun, 02 Oct 2016</td> <th>  Prob (F-statistic):</th> <td>3.87e-09</td>\n",
       "</tr>\n",
       "<tr>\n",
       "  <th>Time:</th>                 <td>21:31:17</td>     <th>  Log-Likelihood:    </th> <td> -8.9620</td>\n",
       "</tr>\n",
       "<tr>\n",
       "  <th>No. Observations:</th>      <td>    40</td>      <th>  AIC:               </th> <td>   47.92</td>\n",
       "</tr>\n",
       "<tr>\n",
       "  <th>Df Residuals:</th>          <td>    25</td>      <th>  BIC:               </th> <td>   73.26</td>\n",
       "</tr>\n",
       "<tr>\n",
       "  <th>Df Model:</th>              <td>    14</td>      <th>                     </th>     <td> </td>   \n",
       "</tr>\n",
       "<tr>\n",
       "  <th>Covariance Type:</th>      <td>nonrobust</td>    <th>                     </th>     <td> </td>   \n",
       "</tr>\n",
       "</table>\n",
       "<table class=\"simpletable\">\n",
       "<tr>\n",
       "    <td></td>       <th>coef</th>     <th>std err</th>      <th>t</th>      <th>P>|t|</th> <th>[95.0% Conf. Int.]</th> \n",
       "</tr>\n",
       "<tr>\n",
       "  <th>const</th> <td>    0.3063</td> <td>    0.374</td> <td>    0.819</td> <td> 0.421</td> <td>   -0.464     1.077</td>\n",
       "</tr>\n",
       "<tr>\n",
       "  <th>x1</th>    <td>   11.2977</td> <td>    7.374</td> <td>    1.532</td> <td> 0.138</td> <td>   -3.889    26.484</td>\n",
       "</tr>\n",
       "<tr>\n",
       "  <th>x2</th>    <td>  -87.4606</td> <td>   41.991</td> <td>   -2.083</td> <td> 0.048</td> <td> -173.943    -0.978</td>\n",
       "</tr>\n",
       "<tr>\n",
       "  <th>x3</th>    <td>  201.1314</td> <td>   83.114</td> <td>    2.420</td> <td> 0.023</td> <td>   29.954   372.309</td>\n",
       "</tr>\n",
       "<tr>\n",
       "  <th>x4</th>    <td>  -99.7930</td> <td>   37.974</td> <td>   -2.628</td> <td> 0.014</td> <td> -178.001   -21.585</td>\n",
       "</tr>\n",
       "<tr>\n",
       "  <th>x5</th>    <td> -135.1708</td> <td>   54.430</td> <td>   -2.483</td> <td> 0.020</td> <td> -247.272   -23.070</td>\n",
       "</tr>\n",
       "<tr>\n",
       "  <th>x6</th>    <td>   52.8870</td> <td>   21.693</td> <td>    2.438</td> <td> 0.022</td> <td>    8.210    97.564</td>\n",
       "</tr>\n",
       "<tr>\n",
       "  <th>x7</th>    <td>  133.5371</td> <td>   51.883</td> <td>    2.574</td> <td> 0.016</td> <td>   26.682   240.392</td>\n",
       "</tr>\n",
       "<tr>\n",
       "  <th>x8</th>    <td>    2.1094</td> <td>    9.515</td> <td>    0.222</td> <td> 0.826</td> <td>  -17.488    21.707</td>\n",
       "</tr>\n",
       "<tr>\n",
       "  <th>x9</th>    <td> -123.9940</td> <td>   47.984</td> <td>   -2.584</td> <td> 0.016</td> <td> -222.820   -25.168</td>\n",
       "</tr>\n",
       "<tr>\n",
       "  <th>x10</th>   <td>  -29.4604</td> <td>   13.568</td> <td>   -2.171</td> <td> 0.040</td> <td>  -57.404    -1.517</td>\n",
       "</tr>\n",
       "<tr>\n",
       "  <th>x11</th>   <td>  121.2505</td> <td>   47.184</td> <td>    2.570</td> <td> 0.017</td> <td>   24.074   218.427</td>\n",
       "</tr>\n",
       "<tr>\n",
       "  <th>x12</th>   <td>    5.5797</td> <td>    6.390</td> <td>    0.873</td> <td> 0.391</td> <td>   -7.581    18.741</td>\n",
       "</tr>\n",
       "<tr>\n",
       "  <th>x13</th>   <td> -128.7955</td> <td>   50.141</td> <td>   -2.569</td> <td> 0.017</td> <td> -232.062   -25.529</td>\n",
       "</tr>\n",
       "<tr>\n",
       "  <th>x14</th>   <td>  123.1873</td> <td>   48.553</td> <td>    2.537</td> <td> 0.018</td> <td>   23.191   223.184</td>\n",
       "</tr>\n",
       "<tr>\n",
       "  <th>x15</th>   <td>  -61.8023</td> <td>   24.680</td> <td>   -2.504</td> <td> 0.019</td> <td> -112.631   -10.973</td>\n",
       "</tr>\n",
       "<tr>\n",
       "  <th>x16</th>   <td>   19.3820</td> <td>    7.844</td> <td>    2.471</td> <td> 0.021</td> <td>    3.228    35.536</td>\n",
       "</tr>\n",
       "<tr>\n",
       "  <th>x17</th>   <td>   -3.9453</td> <td>    1.618</td> <td>   -2.438</td> <td> 0.022</td> <td>   -7.278    -0.612</td>\n",
       "</tr>\n",
       "<tr>\n",
       "  <th>x18</th>   <td>    0.5097</td> <td>    0.212</td> <td>    2.405</td> <td> 0.024</td> <td>    0.073     0.946</td>\n",
       "</tr>\n",
       "<tr>\n",
       "  <th>x19</th>   <td>   -0.0381</td> <td>    0.016</td> <td>   -2.372</td> <td> 0.026</td> <td>   -0.071    -0.005</td>\n",
       "</tr>\n",
       "<tr>\n",
       "  <th>x20</th>   <td>    0.0013</td> <td>    0.001</td> <td>    2.340</td> <td> 0.028</td> <td>    0.000     0.002</td>\n",
       "</tr>\n",
       "</table>\n",
       "<table class=\"simpletable\">\n",
       "<tr>\n",
       "  <th>Omnibus:</th>       <td>18.706</td> <th>  Durbin-Watson:     </th> <td>   2.762</td>\n",
       "</tr>\n",
       "<tr>\n",
       "  <th>Prob(Omnibus):</th> <td> 0.000</td> <th>  Jarque-Bera (JB):  </th> <td>  26.896</td>\n",
       "</tr>\n",
       "<tr>\n",
       "  <th>Skew:</th>          <td> 1.354</td> <th>  Prob(JB):          </th> <td>1.44e-06</td>\n",
       "</tr>\n",
       "<tr>\n",
       "  <th>Kurtosis:</th>      <td> 5.967</td> <th>  Cond. No.          </th> <td>3.20e+19</td>\n",
       "</tr>\n",
       "</table>"
      ],
      "text/plain": [
       "<class 'statsmodels.iolib.summary.Summary'>\n",
       "\"\"\"\n",
       "                            OLS Regression Results                            \n",
       "==============================================================================\n",
       "Dep. Variable:                      Y   R-squared:                       0.900\n",
       "Model:                            OLS   Adj. R-squared:                  0.844\n",
       "Method:                 Least Squares   F-statistic:                     16.11\n",
       "Date:                Sun, 02 Oct 2016   Prob (F-statistic):           3.87e-09\n",
       "Time:                        21:31:17   Log-Likelihood:                -8.9620\n",
       "No. Observations:                  40   AIC:                             47.92\n",
       "Df Residuals:                      25   BIC:                             73.26\n",
       "Df Model:                          14                                         \n",
       "Covariance Type:            nonrobust                                         \n",
       "==============================================================================\n",
       "                 coef    std err          t      P>|t|      [95.0% Conf. Int.]\n",
       "------------------------------------------------------------------------------\n",
       "const          0.3063      0.374      0.819      0.421        -0.464     1.077\n",
       "x1            11.2977      7.374      1.532      0.138        -3.889    26.484\n",
       "x2           -87.4606     41.991     -2.083      0.048      -173.943    -0.978\n",
       "x3           201.1314     83.114      2.420      0.023        29.954   372.309\n",
       "x4           -99.7930     37.974     -2.628      0.014      -178.001   -21.585\n",
       "x5          -135.1708     54.430     -2.483      0.020      -247.272   -23.070\n",
       "x6            52.8870     21.693      2.438      0.022         8.210    97.564\n",
       "x7           133.5371     51.883      2.574      0.016        26.682   240.392\n",
       "x8             2.1094      9.515      0.222      0.826       -17.488    21.707\n",
       "x9          -123.9940     47.984     -2.584      0.016      -222.820   -25.168\n",
       "x10          -29.4604     13.568     -2.171      0.040       -57.404    -1.517\n",
       "x11          121.2505     47.184      2.570      0.017        24.074   218.427\n",
       "x12            5.5797      6.390      0.873      0.391        -7.581    18.741\n",
       "x13         -128.7955     50.141     -2.569      0.017      -232.062   -25.529\n",
       "x14          123.1873     48.553      2.537      0.018        23.191   223.184\n",
       "x15          -61.8023     24.680     -2.504      0.019      -112.631   -10.973\n",
       "x16           19.3820      7.844      2.471      0.021         3.228    35.536\n",
       "x17           -3.9453      1.618     -2.438      0.022        -7.278    -0.612\n",
       "x18            0.5097      0.212      2.405      0.024         0.073     0.946\n",
       "x19           -0.0381      0.016     -2.372      0.026        -0.071    -0.005\n",
       "x20            0.0013      0.001      2.340      0.028         0.000     0.002\n",
       "==============================================================================\n",
       "Omnibus:                       18.706   Durbin-Watson:                   2.762\n",
       "Prob(Omnibus):                  0.000   Jarque-Bera (JB):               26.896\n",
       "Skew:                           1.354   Prob(JB):                     1.44e-06\n",
       "Kurtosis:                       5.967   Cond. No.                     3.20e+19\n",
       "==============================================================================\n",
       "\n",
       "Warnings:\n",
       "[1] Standard Errors assume that the covariance matrix of the errors is correctly specified.\n",
       "[2] The smallest eigenvalue is 1.94e-15. This might indicate that there are\n",
       "strong multicollinearity problems or that the design matrix is singular.\n",
       "\"\"\""
      ]
     },
     "execution_count": 28,
     "metadata": {},
     "output_type": "execute_result"
    }
   ],
   "source": [
    "model_results.summary()\n"
   ]
  },
  {
   "cell_type": "markdown",
   "metadata": {
    "nbpresent": {
     "id": "243340a8-8723-4a2a-a53b-5f8b42c167b4"
    },
    "slideshow": {
     "slide_type": "slide"
    }
   },
   "source": [
    "<br>\n",
    "\n",
    "# Outline \n",
    "- Select among multiple predictors \n",
    "    - Forward, Backward, Hybrid\n",
    "    - AIC, BIC, reduced R2, Cp  \n",
    "- Polynomial regression \n",
    "    - Formalism \n",
    "    - Select the degree \n",
    "    \n",
    "- Interaction terms \n",
    "\n",
    "- ** Revisit SE, p-value and all that jazz  ** \n",
    "   \n",
    "\n",
    "    \n"
   ]
  },
  {
   "cell_type": "markdown",
   "metadata": {
    "nbpresent": {
     "id": "bc53f9cd-3b41-4fba-a788-f4f97c0d85f1"
    },
    "slideshow": {
     "slide_type": "slide"
    }
   },
   "source": [
    "## Standard error\n",
    "\n",
    "We have learned how to calculate the standard error using the formula given to you. These equations hold only in the case when the error distribution is iid and normal. \n",
    "This is not the case in many real world applications\n",
    "1. Errors sometimes have fatter tails \n",
    "2. Errors are not constant \n",
    "3. Correlated errors \n",
    "\n",
    "What is an alternative way of calculating the SE and from that the p-value and confidence intervals? \n",
    "\n"
   ]
  },
  {
   "cell_type": "markdown",
   "metadata": {
    "nbpresent": {
     "id": "6adf384c-5805-41fb-95c2-dd5a4b3528b2"
    },
    "slideshow": {
     "slide_type": "slide"
    }
   },
   "source": [
    "## Standard error (cont) \n",
    "\n",
    "Recall that the estimates are not biased, i.e. if we had infinite measurements the S$\\rightarrow$0. \n",
    "However, we have only a limited set of measurements, our dataset we are working on. \n",
    "From that, we can estimate the coefficients, and we can estimate the errors on these estimates. \n",
    "\n",
    "Now, imagine that we could access parallel universes and perform the same measurement multiple times. In this scenario, we will have multiple sets of data, and since these universes are identical, we will have a sample of datasets derived from identical systems (just different universes), i.e. same distributions. These measurements are not identical because every time we make a measurement there is an error.  \n",
    "\n",
    "We could then estimate the coefficients for each of these datasets and then use those estimates to calculate the ensemble standard deviation (ensemble here means the collection of datasets from all the universes). The standard deviation across universes should be the same (or similar) to the SE estimated with the formula. \n",
    "\n",
    "\n",
    "<img src=\"parallel.jpeg\", style=\"height:400px\">\n"
   ]
  },
  {
   "cell_type": "markdown",
   "metadata": {
    "nbpresent": {
     "id": "965be21c-3c70-4577-b9f4-ffd70d018291"
    },
    "slideshow": {
     "slide_type": "slide"
    }
   },
   "source": [
    "Unfortunately, we do not have access to such parallel universes. \n",
    "\n",
    "What can we do? \n",
    "\n",
    "\n",
    "\n"
   ]
  },
  {
   "cell_type": "markdown",
   "metadata": {
    "nbpresent": {
     "id": "243c65eb-b0c1-4305-a735-3a800f415739"
    },
    "slideshow": {
     "slide_type": "slide"
    },
    "variables": {
     "countdown(1)": "55 "
    }
   },
   "source": [
    "# think for a minute \n",
    "{{countdown(1)}}"
   ]
  },
  {
   "cell_type": "markdown",
   "metadata": {
    "nbpresent": {
     "id": "e0be6acb-e745-4dfb-a8a4-b092ef72c973"
    },
    "slideshow": {
     "slide_type": "slide"
    }
   },
   "source": [
    "The power of simulation: \n",
    "\n",
    "   - Select $q$ random subsamples of size $q$ out of the whole dataset\n",
    "   - Subsample with replacement \n",
    "   - For each subsample, we estimate the coefficients $\\beta$ \n",
    "   - From this  collection of $\\beta$'s we can estimate SE, confidence intervals etc"
   ]
  },
  {
   "cell_type": "code",
   "execution_count": null,
   "metadata": {
    "collapsed": false,
    "nbpresent": {
     "id": "e5efa06c-62fc-4a80-8d69-fa88cb548ed7"
    },
    "slideshow": {
     "slide_type": "skip"
    }
   },
   "outputs": [],
   "source": [
    "def plotSE():\n",
    "    # Load train set\n",
    "    data = pd.read_csv(\"maxheartrate.csv\") \n",
    "\n",
    "    x = data['age'].values\n",
    "    y = data['maxheartrate'].values\n",
    "\n",
    "    # Size of the data set\n",
    "    n = x.shape[0]\n",
    "\n",
    "    # set the subsample size \n",
    "    subsample_size = 300\n",
    "\n",
    "    # No. of subsamples\n",
    "    num_samples = 200\n",
    "\n",
    "    ### Linear regression \n",
    "\n",
    "    # Create a n  array to store coefficients for all subsamples\n",
    "    coefs_a = np.zeros((num_samples, 2))\n",
    "\n",
    "\n",
    "    for i in range(num_samples):\n",
    "        # Generate a random subsample of 50 data points\n",
    "        perm = np.random.permutation(n) # Generate a list of indices 0 to n and permute it\n",
    "        x_subsample = x[perm[:subsample_size]] # Get x-vals for the first 50 indices in permuted list\n",
    "\n",
    "        y_subsample = y[perm[:subsample_size]] # Get y-vals for the first 50 indices in permuted list\n",
    "\n",
    "        # Fit linear regression model on subsample\n",
    "        xt= sm.add_constant(x_subsample)\n",
    "        model = sm.OLS( y_subsample, xt)\n",
    "        model_results= model.fit()\n",
    "\n",
    "        # Store the coefficient for the model we obtain\n",
    "        coefs_a[i, :] = model_results.params\n",
    "\n",
    "\n",
    "    # Plot histogram of coefficients, and report their confidence intervals \n",
    "    fig, axes = plt.subplots(1, 2, figsize=(12, 6))\n",
    "\n",
    "    # Repeat for each coefficient\n",
    "    for j in range(2):\n",
    "        # Compute mean for the j-th coefficent from subsamples\n",
    "        coef_j_mean = np.mean(coefs_a[:, j])\n",
    "\n",
    "        # Compute confidence interval at 95% confidence level (use formula!)\n",
    "        conf_int_left = np.percentile(coefs_a[:, j], 2.5)\n",
    "        conf_int_right = np.percentile(coefs_a[:, j], 97.5)\n",
    "        print('SE'+ r' beta_'+str(j) +' =', (coef_j_mean-conf_int_left) /2) \n",
    "        # Plot histogram of coefficient values\n",
    "        axes[j].hist(coefs_a[:, j], alpha=0.5)\n",
    "\n",
    "        # Plot vertical lines at mean and left, right extremes of confidence interval\n",
    "        axes[j].axvline(x = coef_j_mean, linewidth=3)\n",
    "        axes[j].axvline(x = conf_int_left, linewidth=1, c='r')\n",
    "        axes[j].axvline(x = conf_int_right, linewidth=1, c='r')\n",
    "\n",
    "        # Set plot labels\n",
    "        axes[j].set_title('[' + str(round(conf_int_left, 4)) \n",
    "                          + ', ' \n",
    "                          + str(round(conf_int_right, 4)) + ']')\n",
    "        axes[j].set_xlabel('Predictor ' + str(j + 1))\n",
    "        axes[j].set_ylabel('Frequency')\n",
    "\n",
    "    plt.show()"
   ]
  },
  {
   "cell_type": "code",
   "execution_count": null,
   "metadata": {
    "collapsed": false,
    "nbpresent": {
     "id": "9a19c9bd-0a12-4b38-b650-e77e0b481a03"
    },
    "slideshow": {
     "slide_type": "slide"
    }
   },
   "outputs": [],
   "source": [
    "plotSE()"
   ]
  },
  {
   "cell_type": "markdown",
   "metadata": {
    "nbpresent": {
     "id": "47892dd5-2817-4b29-822f-1fd4c626113c"
    },
    "slideshow": {
     "slide_type": "slide"
    }
   },
   "source": [
    "### Compare to SE formulas we discussed in class \n",
    "\n",
    "- Calculate the SE using the formula \n",
    "\n",
    "    filename: `maxheartrate.csv`\n"
   ]
  },
  {
   "cell_type": "markdown",
   "metadata": {
    "nbpresent": {
     "id": "3527d7f9-7d4c-46cf-add7-98fe6dd4ea15"
    },
    "slideshow": {
     "slide_type": "slide"
    }
   },
   "source": [
    "$$SE(\\hat{\\beta}_0)^2 = \\sigma^2 \\left[ \\frac{1}{n} + \\frac{\\bar{x}^2}{\\sum_i(x_i-\\bar{x})^2} \\right]$$\n",
    "\n",
    "$$SE(\\hat{\\beta}_1)^2 =  \\frac{ \\sigma^2}{\\sum_i(x_i-\\bar{x})^2}$$\n",
    "\n",
    "\n",
    "$$\\sigma \\approx RSE = \\sqrt{ \\frac{RSS}{n-2}} $$\n",
    "\n",
    "$$RSS  = \\sum_i ( y_i - \\hat{y_i} )^2 = \\sum_i \\,e_i^2$$\n"
   ]
  },
  {
   "cell_type": "code",
   "execution_count": null,
   "metadata": {
    "collapsed": true,
    "nbpresent": {
     "id": "efdf5735-4a7d-4104-93d5-2dde299ce638"
    }
   },
   "outputs": [],
   "source": []
  }
 ],
 "metadata": {
  "anaconda-cloud": {},
  "celltoolbar": "Raw Cell Format",
  "kernelspec": {
   "display_name": "Python [Root]",
   "language": "python",
   "name": "Python [Root]"
  },
  "language_info": {
   "codemirror_mode": {
    "name": "ipython",
    "version": 2
   },
   "file_extension": ".py",
   "mimetype": "text/x-python",
   "name": "python",
   "nbconvert_exporter": "python",
   "pygments_lexer": "ipython2",
   "version": "2.7.12"
  },
  "latex_envs": {
   "bibliofile": "biblio.bib",
   "cite_by": "apalike",
   "current_citInitial": 1,
   "eqLabelWithNumbers": true,
   "eqNumInitial": 0
  },
  "nbpresent": {
   "slides": {
    "01353528-9583-469e-b51e-547aa9cfcda5": {
     "id": "01353528-9583-469e-b51e-547aa9cfcda5",
     "prev": "d5e45859-57c4-4334-8a1b-db060cdde2b0",
     "regions": {
      "1e3924a4-0e0a-4a2f-a29f-b50ac9f02e8e": {
       "attrs": {
        "height": 0.8,
        "width": 0.8,
        "x": 0.1,
        "y": 0.1
       },
       "content": {
        "cell": "bc53f9cd-3b41-4fba-a788-f4f97c0d85f1",
        "part": "whole"
       },
       "id": "1e3924a4-0e0a-4a2f-a29f-b50ac9f02e8e"
      }
     }
    },
    "0df34606-aeff-4247-a51c-69b07c3f9f6f": {
     "id": "0df34606-aeff-4247-a51c-69b07c3f9f6f",
     "prev": "4362124e-1838-40bd-ae95-973db4ae583e",
     "regions": {
      "3aa29569-49bf-4d0f-8c12-7a1705d89652": {
       "attrs": {
        "height": 0.8,
        "width": 0.8,
        "x": 0.1,
        "y": 0.1
       },
       "content": {
        "cell": "6adf384c-5805-41fb-95c2-dd5a4b3528b2",
        "part": "whole"
       },
       "id": "3aa29569-49bf-4d0f-8c12-7a1705d89652"
      }
     }
    },
    "2f78a3b2-f807-4c40-a26f-483b87139e8b": {
     "id": "2f78a3b2-f807-4c40-a26f-483b87139e8b",
     "prev": "d9b95f65-9cdd-4290-8565-efd227fa590f",
     "regions": {
      "aafceb21-7eef-4960-954c-a166eec9f485": {
       "attrs": {
        "height": 0.8,
        "width": 0.8,
        "x": 0.1,
        "y": 0.1
       },
       "content": {
        "cell": "47892dd5-2817-4b29-822f-1fd4c626113c",
        "part": "whole"
       },
       "id": "aafceb21-7eef-4960-954c-a166eec9f485"
      }
     }
    },
    "37edb528-eb0d-4b1d-b28b-fe7204b284c0": {
     "id": "37edb528-eb0d-4b1d-b28b-fe7204b284c0",
     "prev": "bcb35e86-514b-4177-acce-3e19f7c8c6d7",
     "regions": {
      "2d6f72b3-eba8-4fd0-9a7e-4b5c1678113e": {
       "attrs": {
        "height": 0.4,
        "width": 0.8,
        "x": 0.1,
        "y": 0.5
       },
       "content": {
        "cell": "94c258fd-8a83-445f-9e86-c353f5625fad",
        "part": "whole"
       },
       "id": "2d6f72b3-eba8-4fd0-9a7e-4b5c1678113e"
      },
      "8fe5b81e-3d28-4d13-b54b-a0cea6d744fc": {
       "attrs": {
        "height": 0.8,
        "width": 0.8,
        "x": 0.1,
        "y": 0.1
       },
       "content": {
        "cell": "a37cd7fa-c4e6-4e18-beb2-f1cac6469aa7",
        "part": "whole"
       },
       "id": "8fe5b81e-3d28-4d13-b54b-a0cea6d744fc"
      }
     }
    },
    "3df33bcf-77ba-4f48-a76c-11be6ffa185c": {
     "id": "3df33bcf-77ba-4f48-a76c-11be6ffa185c",
     "prev": "6caf756c-2835-4932-bb65-ccb916c5bf2b",
     "regions": {
      "11400e12-d70d-417b-a4c6-73a2a2a76bf0": {
       "attrs": {
        "height": 0.8,
        "width": 0.8,
        "x": 0.1,
        "y": 0.1
       },
       "content": {
        "cell": "519ebd57-4f95-4c1a-af79-09fd4d8804f4",
        "part": "whole"
       },
       "id": "11400e12-d70d-417b-a4c6-73a2a2a76bf0"
      }
     }
    },
    "424b7d83-f2c5-4c80-b19c-d3765d841ac4": {
     "id": "424b7d83-f2c5-4c80-b19c-d3765d841ac4",
     "prev": "0df34606-aeff-4247-a51c-69b07c3f9f6f",
     "regions": {
      "bbc0cc4e-dfd2-4a62-a36f-a3f638b4946d": {
       "attrs": {
        "height": 0.8,
        "width": 0.8,
        "x": 0.1,
        "y": 0.1
       },
       "content": {
        "cell": "965be21c-3c70-4577-b9f4-ffd70d018291",
        "part": "whole"
       },
       "id": "bbc0cc4e-dfd2-4a62-a36f-a3f638b4946d"
      }
     }
    },
    "4362124e-1838-40bd-ae95-973db4ae583e": {
     "id": "4362124e-1838-40bd-ae95-973db4ae583e",
     "prev": "01353528-9583-469e-b51e-547aa9cfcda5",
     "regions": {
      "81ef11e3-6cc5-4a05-a770-ec07a7fd7acb": {
       "attrs": {
        "height": 0.8,
        "width": 0.8,
        "x": 0.1,
        "y": 0.1
       },
       "content": {
        "cell": "a49a0029-6072-4b69-8516-424c472bfa9a",
        "part": "whole"
       },
       "id": "81ef11e3-6cc5-4a05-a770-ec07a7fd7acb"
      }
     }
    },
    "45aacc40-3355-4fe7-a4a5-cb0869714ee4": {
     "id": "45aacc40-3355-4fe7-a4a5-cb0869714ee4",
     "prev": "d05dbd48-f9ce-433d-a953-df5bdcefc13a",
     "regions": {
      "796c75c6-fbd1-4694-9ce6-49346e18cc4a": {
       "attrs": {
        "height": 0.8,
        "width": 0.8,
        "x": 0.1,
        "y": 0.1
       },
       "content": {
        "cell": "4ee5fd2e-bfdd-4949-9a6a-994bc4a93e1e",
        "part": "whole"
       },
       "id": "796c75c6-fbd1-4694-9ce6-49346e18cc4a"
      }
     }
    },
    "46aec266-d2ae-4d78-bc0b-3c3aeab933e8": {
     "id": "46aec266-d2ae-4d78-bc0b-3c3aeab933e8",
     "prev": "b1d054f1-e508-40e7-ac0c-e7090b5bf715",
     "regions": {
      "291c8ca1-50f6-4b20-a0c0-c085363d1ca5": {
       "attrs": {
        "height": 0.4,
        "width": 0.8,
        "x": 0.1,
        "y": 0.5
       },
       "content": {
        "cell": "45d55dec-4db3-494b-82b3-88662c50b456",
        "part": "whole"
       },
       "id": "291c8ca1-50f6-4b20-a0c0-c085363d1ca5"
      },
      "a4421ae0-0c54-4348-bff8-a3c81de68139": {
       "attrs": {
        "height": 0.8,
        "width": 0.8,
        "x": 0.1,
        "y": 0.1
       },
       "content": {
        "cell": "9573bab5-e474-4490-9555-9161c7a23497",
        "part": "whole"
       },
       "id": "a4421ae0-0c54-4348-bff8-a3c81de68139"
      },
      "dbcd48be-de71-4e4b-b97f-95db5bed4f41": {
       "attrs": {
        "height": 0.4,
        "width": 0.8,
        "x": 0.1,
        "y": 0.5
       },
       "content": {
        "cell": "2c638bc1-e41a-490c-a547-994a92ee6216",
        "part": "whole"
       },
       "id": "dbcd48be-de71-4e4b-b97f-95db5bed4f41"
      }
     }
    },
    "53707b05-cb35-42a0-8d58-9701237b4071": {
     "id": "53707b05-cb35-42a0-8d58-9701237b4071",
     "prev": "e62cee5b-4048-48d8-9a2c-c8f07ddea8e2",
     "regions": {
      "34f84a35-2f69-4863-a715-4b04dc84a33b": {
       "attrs": {
        "height": 0.8,
        "width": 0.8,
        "x": 0.1,
        "y": 0.1
       },
       "content": {
        "cell": "53eb3779-1b24-498b-b195-11fbf4d35b15",
        "part": "whole"
       },
       "id": "34f84a35-2f69-4863-a715-4b04dc84a33b"
      }
     }
    },
    "56a32825-bfd2-411d-bb19-6ba20a45e75f": {
     "id": "56a32825-bfd2-411d-bb19-6ba20a45e75f",
     "prev": "f5fd3262-27ff-4806-9e4c-c771826e51da",
     "regions": {
      "68da769a-60ba-465e-89de-9c1a94336209": {
       "attrs": {
        "height": 0.8,
        "width": 0.8,
        "x": 0.1,
        "y": 0.1
       },
       "content": {
        "cell": "aa7bb932-1b26-4d30-ba0d-b0707ce2de4b",
        "part": "whole"
       },
       "id": "68da769a-60ba-465e-89de-9c1a94336209"
      }
     }
    },
    "5c574e2f-8ced-439b-9f62-6b14ff706411": {
     "id": "5c574e2f-8ced-439b-9f62-6b14ff706411",
     "prev": "92b889ec-e31f-4bbd-aa27-cfacd69539c2",
     "regions": {
      "70d48b50-2fd5-4bbb-816d-4fc3e1e600bf": {
       "attrs": {
        "height": 0.8,
        "width": 0.8,
        "x": 0.1,
        "y": 0.1
       },
       "content": {
        "cell": "7f492c51-40df-4b04-8e52-a515c53b1275",
        "part": "whole"
       },
       "id": "70d48b50-2fd5-4bbb-816d-4fc3e1e600bf"
      }
     }
    },
    "5f14afdd-e9ef-4444-b600-a5c91017d567": {
     "id": "5f14afdd-e9ef-4444-b600-a5c91017d567",
     "prev": "3df33bcf-77ba-4f48-a76c-11be6ffa185c",
     "regions": {
      "78744a91-c727-4037-9103-c5b7cbf1b96f": {
       "attrs": {
        "height": 0.8,
        "width": 0.8,
        "x": 0.1,
        "y": 0.1
       },
       "content": {
        "cell": "c9b83672-84bd-44ff-991e-bd211f8f4429",
        "part": "whole"
       },
       "id": "78744a91-c727-4037-9103-c5b7cbf1b96f"
      }
     }
    },
    "6caf756c-2835-4932-bb65-ccb916c5bf2b": {
     "id": "6caf756c-2835-4932-bb65-ccb916c5bf2b",
     "prev": "ad0109d6-2469-4082-a6db-945074a3ddf6",
     "regions": {
      "5ac5b66a-269c-4e60-9fa0-3ae2631ab639": {
       "attrs": {
        "height": 0.8,
        "width": 0.8,
        "x": 0.1,
        "y": 0.1
       },
       "content": {
        "cell": "82f46f8b-7580-4235-8537-fcc062667fc1",
        "part": "whole"
       },
       "id": "5ac5b66a-269c-4e60-9fa0-3ae2631ab639"
      }
     }
    },
    "6e123efc-12f0-4618-a263-b41505e7df2d": {
     "id": "6e123efc-12f0-4618-a263-b41505e7df2d",
     "prev": "82e9dba6-b8a8-4d48-bdcb-eb15f1abcd2c",
     "regions": {
      "42943399-6112-4d0d-b303-883b17b3c6c3": {
       "attrs": {
        "height": 0.8,
        "width": 0.8,
        "x": 0.1,
        "y": 0.1
       },
       "content": {
        "cell": "cd151b57-c735-4ca7-b1db-0975a11fdb15",
        "part": "whole"
       },
       "id": "42943399-6112-4d0d-b303-883b17b3c6c3"
      },
      "453e4ce8-26c8-42d1-b821-3959ed28e1bc": {
       "attrs": {
        "height": 0.4,
        "width": 0.8,
        "x": 0.1,
        "y": 0.5
       },
       "content": {
        "cell": "aabc0b10-3dfd-4f3e-8b36-523bca0d95f0",
        "part": "whole"
       },
       "id": "453e4ce8-26c8-42d1-b821-3959ed28e1bc"
      }
     }
    },
    "706e9309-63e9-4f84-8236-92d642c6ec9c": {
     "id": "706e9309-63e9-4f84-8236-92d642c6ec9c",
     "prev": "46aec266-d2ae-4d78-bc0b-3c3aeab933e8",
     "regions": {
      "b495dcd3-9bff-412c-bc9b-55ec76a22a80": {
       "attrs": {
        "height": 0.8,
        "width": 0.8,
        "x": 0.1,
        "y": 0.1
       },
       "content": {
        "cell": "958a013e-c7fe-42d5-90f4-23edc530348c",
        "part": "whole"
       },
       "id": "b495dcd3-9bff-412c-bc9b-55ec76a22a80"
      }
     }
    },
    "82e9dba6-b8a8-4d48-bdcb-eb15f1abcd2c": {
     "id": "82e9dba6-b8a8-4d48-bdcb-eb15f1abcd2c",
     "prev": "5c574e2f-8ced-439b-9f62-6b14ff706411",
     "regions": {
      "45551f05-5793-4820-a793-8efb978e1adc": {
       "attrs": {
        "height": 0.4,
        "width": 0.8,
        "x": 0.1,
        "y": 0.5
       },
       "content": {
        "cell": "e6038223-3839-495c-b236-5d17de9b795f",
        "part": "whole"
       },
       "id": "45551f05-5793-4820-a793-8efb978e1adc"
      },
      "f747f654-b578-4ff1-a245-5547b2849bf8": {
       "attrs": {
        "height": 0.8,
        "width": 0.8,
        "x": 0.1,
        "y": 0.1
       },
       "content": {
        "cell": "15ece0ff-1191-46ac-b7e7-d81a68b75194",
        "part": "whole"
       },
       "id": "f747f654-b578-4ff1-a245-5547b2849bf8"
      }
     }
    },
    "8c7a1681-a213-4ccc-8cb5-edaa6ad44993": {
     "id": "8c7a1681-a213-4ccc-8cb5-edaa6ad44993",
     "prev": "5f14afdd-e9ef-4444-b600-a5c91017d567",
     "regions": {
      "831065ac-1f18-4888-b59f-5a781f9454cf": {
       "attrs": {
        "height": 0.8,
        "width": 0.8,
        "x": 0.1,
        "y": 0.1
       },
       "content": {
        "cell": "bb34f89b-85e1-49aa-b4ac-7db42ffee278",
        "part": "whole"
       },
       "id": "831065ac-1f18-4888-b59f-5a781f9454cf"
      }
     }
    },
    "92b889ec-e31f-4bbd-aa27-cfacd69539c2": {
     "id": "92b889ec-e31f-4bbd-aa27-cfacd69539c2",
     "prev": "56a32825-bfd2-411d-bb19-6ba20a45e75f",
     "regions": {
      "fb81e0d2-1fc2-4ad2-9780-06fdb2078223": {
       "attrs": {
        "height": 0.8,
        "width": 0.8,
        "x": 0.1,
        "y": 0.1
       },
       "content": {
        "cell": "70f2782d-7389-4572-a186-fe13b4dad467",
        "part": "whole"
       },
       "id": "fb81e0d2-1fc2-4ad2-9780-06fdb2078223"
      }
     }
    },
    "ad0109d6-2469-4082-a6db-945074a3ddf6": {
     "id": "ad0109d6-2469-4082-a6db-945074a3ddf6",
     "prev": "d884bb4e-8d6a-4251-aa5e-97a80195697d",
     "regions": {
      "fd039fc5-341d-46ed-9369-a127c6e116f9": {
       "attrs": {
        "height": 0.8,
        "width": 0.8,
        "x": 0.1,
        "y": 0.1
       },
       "content": {
        "cell": "6b0d413c-c0dd-458a-901f-f8fde9476be9",
        "part": "whole"
       },
       "id": "fd039fc5-341d-46ed-9369-a127c6e116f9"
      }
     }
    },
    "b1d054f1-e508-40e7-ac0c-e7090b5bf715": {
     "id": "b1d054f1-e508-40e7-ac0c-e7090b5bf715",
     "prev": "d645bf73-1bc5-4e1c-92f1-a7df9d68e733",
     "regions": {
      "38e62376-feb9-4278-92de-5dd0e5c75d55": {
       "attrs": {
        "height": 0.8,
        "width": 0.8,
        "x": 0.1,
        "y": 0.1
       },
       "content": {
        "cell": "1eb54698-02a2-4230-a161-318308cdf297",
        "part": "whole"
       },
       "id": "38e62376-feb9-4278-92de-5dd0e5c75d55"
      },
      "b55b484d-09d0-4760-b2ec-197f4add0f55": {
       "attrs": {
        "height": 0.4,
        "width": 0.8,
        "x": 0.1,
        "y": 0.5
       },
       "content": {
        "cell": "7fd66cc7-366b-436b-b0b0-823a63745949",
        "part": "whole"
       },
       "id": "b55b484d-09d0-4760-b2ec-197f4add0f55"
      }
     }
    },
    "bb23a739-b57f-4db5-bdb2-217744afb268": {
     "id": "bb23a739-b57f-4db5-bdb2-217744afb268",
     "prev": null,
     "regions": {}
    },
    "bcb35e86-514b-4177-acce-3e19f7c8c6d7": {
     "id": "bcb35e86-514b-4177-acce-3e19f7c8c6d7",
     "prev": "bb23a739-b57f-4db5-bdb2-217744afb268",
     "regions": {
      "612aa754-050b-4577-90a7-5d6269cfb38d": {
       "attrs": {
        "height": 0.4,
        "width": 0.8,
        "x": 0.1,
        "y": 0.5
       },
       "content": {
        "cell": "9d5d0275-eecf-438b-980c-a2c6ffee9a12",
        "part": "whole"
       },
       "id": "612aa754-050b-4577-90a7-5d6269cfb38d"
      },
      "769928de-2491-48a8-b3e3-fe6314767b40": {
       "attrs": {
        "height": 0.8,
        "width": 0.8,
        "x": 0.1,
        "y": 0.1
       },
       "content": {
        "cell": "7994cf25-e197-4c79-a6cb-49476b16929a",
        "part": "whole"
       },
       "id": "769928de-2491-48a8-b3e3-fe6314767b40"
      }
     }
    },
    "c5bca91f-038f-471a-9266-e5a9afe0c271": {
     "id": "c5bca91f-038f-471a-9266-e5a9afe0c271",
     "prev": "706e9309-63e9-4f84-8236-92d642c6ec9c",
     "regions": {
      "c1a77347-513e-4fa4-8efd-59a325ca805b": {
       "attrs": {
        "height": 0.8,
        "width": 0.8,
        "x": 0.1,
        "y": 0.1
       },
       "content": {
        "cell": "3511fc3f-8195-43ed-8b8a-fe7edb354ba1",
        "part": "whole"
       },
       "id": "c1a77347-513e-4fa4-8efd-59a325ca805b"
      }
     }
    },
    "c6c20dd8-46c7-48c1-b42d-1437bd2de2b7": {
     "id": "c6c20dd8-46c7-48c1-b42d-1437bd2de2b7",
     "prev": "45aacc40-3355-4fe7-a4a5-cb0869714ee4",
     "regions": {
      "f9ead73b-d349-40ee-b9e1-74beb507d978": {
       "attrs": {
        "height": 0.8,
        "width": 0.8,
        "x": 0.1,
        "y": 0.1
       },
       "content": {
        "cell": "a49b3a3f-a1cc-4cea-955e-b2dc2a4958f0",
        "part": "whole"
       },
       "id": "f9ead73b-d349-40ee-b9e1-74beb507d978"
      }
     }
    },
    "c8fb25ec-4b3f-417b-a16d-8c2c275adae8": {
     "id": "c8fb25ec-4b3f-417b-a16d-8c2c275adae8",
     "prev": "8c7a1681-a213-4ccc-8cb5-edaa6ad44993",
     "regions": {
      "ca1092e8-d6f8-4a60-a58e-103b35238bb4": {
       "attrs": {
        "height": 0.8,
        "width": 0.8,
        "x": 0.1,
        "y": 0.1
       },
       "content": {
        "cell": "1224f93a-0132-4304-a107-1b9a383d5157",
        "part": "whole"
       },
       "id": "ca1092e8-d6f8-4a60-a58e-103b35238bb4"
      }
     }
    },
    "cca9a622-ad7c-4743-acae-8d203cc04887": {
     "id": "cca9a622-ad7c-4743-acae-8d203cc04887",
     "prev": "2f78a3b2-f807-4c40-a26f-483b87139e8b",
     "regions": {
      "7f7a6dfc-8205-4420-abc1-6db193fbb5af": {
       "attrs": {
        "height": 0.8,
        "width": 0.8,
        "x": 0.1,
        "y": 0.1
       },
       "content": {
        "cell": "3527d7f9-7d4c-46cf-add7-98fe6dd4ea15",
        "part": "whole"
       },
       "id": "7f7a6dfc-8205-4420-abc1-6db193fbb5af"
      },
      "c8621472-fd92-4a84-81b8-2898bb85aed5": {
       "attrs": {
        "height": 0.4,
        "width": 0.8,
        "x": 0.1,
        "y": 0.5
       },
       "content": {
        "cell": "efdf5735-4a7d-4104-93d5-2dde299ce638",
        "part": "whole"
       },
       "id": "c8621472-fd92-4a84-81b8-2898bb85aed5"
      }
     }
    },
    "d05dbd48-f9ce-433d-a953-df5bdcefc13a": {
     "id": "d05dbd48-f9ce-433d-a953-df5bdcefc13a",
     "prev": "e406a0b4-af38-4fc9-a78f-3ea536e58a09",
     "regions": {
      "06fa5b2f-1ca0-4cc7-a61b-939d3fac7390": {
       "attrs": {
        "height": 0.8,
        "width": 0.8,
        "x": 0.1,
        "y": 0.1
       },
       "content": {
        "cell": "e213cf74-c25f-4446-87e8-07d2eb0f3b99",
        "part": "whole"
       },
       "id": "06fa5b2f-1ca0-4cc7-a61b-939d3fac7390"
      }
     }
    },
    "d5e45859-57c4-4334-8a1b-db060cdde2b0": {
     "id": "d5e45859-57c4-4334-8a1b-db060cdde2b0",
     "prev": "f5fa9939-9957-4378-af40-9c369d79b1e3",
     "regions": {
      "b0bf5f64-649e-457d-a1fb-e8926d3987ec": {
       "attrs": {
        "height": 0.8,
        "width": 0.8,
        "x": 0.1,
        "y": 0.1
       },
       "content": {
        "cell": "243340a8-8723-4a2a-a53b-5f8b42c167b4",
        "part": "whole"
       },
       "id": "b0bf5f64-649e-457d-a1fb-e8926d3987ec"
      }
     }
    },
    "d645bf73-1bc5-4e1c-92f1-a7df9d68e733": {
     "id": "d645bf73-1bc5-4e1c-92f1-a7df9d68e733",
     "prev": "53707b05-cb35-42a0-8d58-9701237b4071",
     "regions": {
      "4675ceda-16ce-4e2b-9ccd-784c70373aa6": {
       "attrs": {
        "height": 0.8,
        "width": 0.8,
        "x": 0.1,
        "y": 0.1
       },
       "content": {
        "cell": "5663b6b1-ed48-4648-af20-22c19a90999b",
        "part": "whole"
       },
       "id": "4675ceda-16ce-4e2b-9ccd-784c70373aa6"
      }
     }
    },
    "d884bb4e-8d6a-4251-aa5e-97a80195697d": {
     "id": "d884bb4e-8d6a-4251-aa5e-97a80195697d",
     "prev": "c5bca91f-038f-471a-9266-e5a9afe0c271",
     "regions": {
      "b819431f-b289-4dcb-99c8-7d18b4a1d3f2": {
       "attrs": {
        "height": 0.8,
        "width": 0.8,
        "x": 0.1,
        "y": 0.1
       },
       "content": {
        "cell": "7e1dda6c-b795-4654-8d4b-28004a3c96ac",
        "part": "whole"
       },
       "id": "b819431f-b289-4dcb-99c8-7d18b4a1d3f2"
      }
     }
    },
    "d9b95f65-9cdd-4290-8565-efd227fa590f": {
     "id": "d9b95f65-9cdd-4290-8565-efd227fa590f",
     "prev": "f8bda0ab-145a-484b-bf0c-23493df0aa90",
     "regions": {
      "a6dc4b94-da87-42f4-a2d1-d028497f25a8": {
       "attrs": {
        "height": 0.8,
        "width": 0.8,
        "x": 0.1,
        "y": 0.1
       },
       "content": {
        "cell": "9a19c9bd-0a12-4b38-b650-e77e0b481a03",
        "part": "whole"
       },
       "id": "a6dc4b94-da87-42f4-a2d1-d028497f25a8"
      }
     }
    },
    "e406a0b4-af38-4fc9-a78f-3ea536e58a09": {
     "id": "e406a0b4-af38-4fc9-a78f-3ea536e58a09",
     "prev": "6e123efc-12f0-4618-a263-b41505e7df2d",
     "regions": {
      "2884072d-7e57-4414-8ff1-68feb0764c6a": {
       "attrs": {
        "height": 0.8,
        "width": 0.8,
        "x": 0.1,
        "y": 0.1
       },
       "content": {
        "cell": "6f0a4123-2f7a-4b97-a95e-9746657487d3",
        "part": "whole"
       },
       "id": "2884072d-7e57-4414-8ff1-68feb0764c6a"
      }
     }
    },
    "e62cee5b-4048-48d8-9a2c-c8f07ddea8e2": {
     "id": "e62cee5b-4048-48d8-9a2c-c8f07ddea8e2",
     "prev": "c6c20dd8-46c7-48c1-b42d-1437bd2de2b7",
     "regions": {
      "67caf053-de1c-4cf2-82b8-66e7de1f3bb1": {
       "attrs": {
        "height": 0.8,
        "width": 0.8,
        "x": 0.1,
        "y": 0.1
       },
       "content": {
        "cell": "d75c0106-078d-4e93-b132-60f3d1e82f38",
        "part": "whole"
       },
       "id": "67caf053-de1c-4cf2-82b8-66e7de1f3bb1"
      }
     }
    },
    "e87bfaa6-8b19-4939-8a60-219facfd24f6": {
     "id": "e87bfaa6-8b19-4939-8a60-219facfd24f6",
     "prev": "c8fb25ec-4b3f-417b-a16d-8c2c275adae8",
     "regions": {
      "0b06925f-4712-40de-a548-f854d0a19dce": {
       "attrs": {
        "height": 0.8,
        "width": 0.8,
        "x": 0.1,
        "y": 0.1
       },
       "content": {
        "cell": "1c1961d9-7c65-4364-9e27-34d22abe04bc",
        "part": "whole"
       },
       "id": "0b06925f-4712-40de-a548-f854d0a19dce"
      },
      "acbcc9b3-b4b8-4d73-a0e1-2f7ae891e850": {
       "attrs": {
        "height": 0.4,
        "width": 0.8,
        "x": 0.1,
        "y": 0.5
       },
       "content": {
        "cell": "fa12c6d0-491a-4887-a37e-7d2d7a7a065a",
        "part": "whole"
       },
       "id": "acbcc9b3-b4b8-4d73-a0e1-2f7ae891e850"
      }
     }
    },
    "f42369e3-36d5-4063-8436-764565f3cee9": {
     "id": "f42369e3-36d5-4063-8436-764565f3cee9",
     "prev": "424b7d83-f2c5-4c80-b19c-d3765d841ac4",
     "regions": {
      "9070ce76-b74e-48dd-8fff-5863960ee1c9": {
       "attrs": {
        "height": 0.8,
        "width": 0.8,
        "x": 0.1,
        "y": 0.1
       },
       "content": {
        "cell": "243c65eb-b0c1-4305-a735-3a800f415739",
        "part": "whole"
       },
       "id": "9070ce76-b74e-48dd-8fff-5863960ee1c9"
      }
     }
    },
    "f5fa9939-9957-4378-af40-9c369d79b1e3": {
     "id": "f5fa9939-9957-4378-af40-9c369d79b1e3",
     "prev": "e87bfaa6-8b19-4939-8a60-219facfd24f6",
     "regions": {
      "49c20f8d-0ba2-4136-a5ad-0e9f4abcc5d0": {
       "attrs": {
        "height": 0.8,
        "width": 0.8,
        "x": 0.1,
        "y": 0.1
       },
       "content": {
        "cell": "18947656-c833-4ac8-8611-a17a0165b196",
        "part": "whole"
       },
       "id": "49c20f8d-0ba2-4136-a5ad-0e9f4abcc5d0"
      }
     }
    },
    "f5fd3262-27ff-4806-9e4c-c771826e51da": {
     "id": "f5fd3262-27ff-4806-9e4c-c771826e51da",
     "prev": "37edb528-eb0d-4b1d-b28b-fe7204b284c0",
     "regions": {
      "1adf62a6-91a3-49c1-ad8a-50572ad816aa": {
       "attrs": {
        "height": 0.8,
        "width": 0.8,
        "x": 0.1,
        "y": 0.1
       },
       "content": {
        "cell": "f39cefdb-e879-4801-86b6-66d51e8cd938",
        "part": "whole"
       },
       "id": "1adf62a6-91a3-49c1-ad8a-50572ad816aa"
      }
     }
    },
    "f8bda0ab-145a-484b-bf0c-23493df0aa90": {
     "id": "f8bda0ab-145a-484b-bf0c-23493df0aa90",
     "prev": "f42369e3-36d5-4063-8436-764565f3cee9",
     "regions": {
      "fbdf5d07-ab4e-4592-b4d5-315dc8b8745e": {
       "attrs": {
        "height": 0.8,
        "width": 0.8,
        "x": 0.1,
        "y": 0.1
       },
       "content": {
        "cell": "e0be6acb-e745-4dfb-a8a4-b092ef72c973",
        "part": "whole"
       },
       "id": "fbdf5d07-ab4e-4592-b4d5-315dc8b8745e"
      }
     }
    }
   },
   "themes": {
    "default": "fd7e0354-b84c-470e-bbff-633245e31aea",
    "theme": {
     "f828642d-aa36-4d00-8698-fd86d9a63afc": {
      "backgrounds": {
       "dc7afa04-bf90-40b1-82a5-726e3cff5267": {
        "background-color": "31af15d2-7e15-44c5-ab5e-e04b16a89eff",
        "id": "dc7afa04-bf90-40b1-82a5-726e3cff5267"
       }
      },
      "id": "f828642d-aa36-4d00-8698-fd86d9a63afc",
      "palette": {
       "19cc588f-0593-49c9-9f4b-e4d7cc113b1c": {
        "id": "19cc588f-0593-49c9-9f4b-e4d7cc113b1c",
        "rgb": [
         252,
         252,
         252
        ]
       },
       "31af15d2-7e15-44c5-ab5e-e04b16a89eff": {
        "id": "31af15d2-7e15-44c5-ab5e-e04b16a89eff",
        "rgb": [
         68,
         68,
         68
        ]
       },
       "50f92c45-a630-455b-aec3-788680ec7410": {
        "id": "50f92c45-a630-455b-aec3-788680ec7410",
        "rgb": [
         197,
         226,
         245
        ]
       },
       "c5cc3653-2ee1-402a-aba2-7caae1da4f6c": {
        "id": "c5cc3653-2ee1-402a-aba2-7caae1da4f6c",
        "rgb": [
         43,
         126,
         184
        ]
       },
       "efa7f048-9acb-414c-8b04-a26811511a21": {
        "id": "efa7f048-9acb-414c-8b04-a26811511a21",
        "rgb": [
         25.118061674008803,
         73.60176211453744,
         107.4819383259912
        ]
       }
      },
      "rules": {
       "a": {
        "color": "19cc588f-0593-49c9-9f4b-e4d7cc113b1c"
       },
       "blockquote": {
        "color": "50f92c45-a630-455b-aec3-788680ec7410",
        "font-size": 3
       },
       "code": {
        "font-family": "Anonymous Pro"
       },
       "h1": {
        "color": "19cc588f-0593-49c9-9f4b-e4d7cc113b1c",
        "font-family": "Merriweather",
        "font-size": 8
       },
       "h2": {
        "color": "19cc588f-0593-49c9-9f4b-e4d7cc113b1c",
        "font-family": "Merriweather",
        "font-size": 6
       },
       "h3": {
        "color": "50f92c45-a630-455b-aec3-788680ec7410",
        "font-family": "Lato",
        "font-size": 5.5
       },
       "h4": {
        "color": "c5cc3653-2ee1-402a-aba2-7caae1da4f6c",
        "font-family": "Lato",
        "font-size": 5
       },
       "h5": {
        "font-family": "Lato"
       },
       "h6": {
        "font-family": "Lato"
       },
       "h7": {
        "font-family": "Lato"
       },
       "li": {
        "color": "50f92c45-a630-455b-aec3-788680ec7410",
        "font-size": 3.25
       },
       "pre": {
        "font-family": "Anonymous Pro",
        "font-size": 4
       }
      },
      "text-base": {
       "color": "19cc588f-0593-49c9-9f4b-e4d7cc113b1c",
       "font-family": "Lato",
       "font-size": 4
      }
     },
     "fd7e0354-b84c-470e-bbff-633245e31aea": {
      "id": "fd7e0354-b84c-470e-bbff-633245e31aea",
      "palette": {
       "19cc588f-0593-49c9-9f4b-e4d7cc113b1c": {
        "id": "19cc588f-0593-49c9-9f4b-e4d7cc113b1c",
        "rgb": [
         252,
         252,
         252
        ]
       },
       "31af15d2-7e15-44c5-ab5e-e04b16a89eff": {
        "id": "31af15d2-7e15-44c5-ab5e-e04b16a89eff",
        "rgb": [
         68,
         68,
         68
        ]
       },
       "50f92c45-a630-455b-aec3-788680ec7410": {
        "id": "50f92c45-a630-455b-aec3-788680ec7410",
        "rgb": [
         155,
         177,
         192
        ]
       },
       "c5cc3653-2ee1-402a-aba2-7caae1da4f6c": {
        "id": "c5cc3653-2ee1-402a-aba2-7caae1da4f6c",
        "rgb": [
         43,
         126,
         184
        ]
       },
       "efa7f048-9acb-414c-8b04-a26811511a21": {
        "id": "efa7f048-9acb-414c-8b04-a26811511a21",
        "rgb": [
         25.118061674008803,
         73.60176211453744,
         107.4819383259912
        ]
       }
      },
      "rules": {
       "blockquote": {
        "color": "50f92c45-a630-455b-aec3-788680ec7410"
       },
       "code": {
        "font-family": "Anonymous Pro"
       },
       "h1": {
        "color": "c5cc3653-2ee1-402a-aba2-7caae1da4f6c",
        "font-family": "Lato",
        "font-size": 8
       },
       "h2": {
        "color": "c5cc3653-2ee1-402a-aba2-7caae1da4f6c",
        "font-family": "Lato",
        "font-size": 6
       },
       "h3": {
        "color": "50f92c45-a630-455b-aec3-788680ec7410",
        "font-family": "Lato",
        "font-size": 5.5
       },
       "h4": {
        "color": "c5cc3653-2ee1-402a-aba2-7caae1da4f6c",
        "font-family": "Lato",
        "font-size": 5
       },
       "h5": {
        "font-family": "Lato"
       },
       "h6": {
        "font-family": "Lato"
       },
       "h7": {
        "font-family": "Lato"
       },
       "pre": {
        "font-family": "Anonymous Pro",
        "font-size": 4
       }
      },
      "text-base": {
       "font-family": "Merriweather",
       "font-size": 4
      }
     }
    }
   }
  },
  "widgets": {
   "state": {},
   "version": "1.1.2"
  }
 },
 "nbformat": 4,
 "nbformat_minor": 0
}
