{
 "cells": [
  {
   "cell_type": "markdown",
   "metadata": {},
   "source": [
    "# CS 109A/AC 209A/STAT 121A Data Science: Homework 3\n",
    "**Harvard University**<br>\n",
    "**Fall 2016**<br>\n",
    "**Instructors: W. Pan, P. Protopapas, K. Rader**<br>\n",
    "**Due Date: ** Wednesday, September 28th, 2016 at 11:59pm"
   ]
  },
  {
   "cell_type": "markdown",
   "metadata": {},
   "source": [
    "Download the `IPython` notebook as well as the data file from Vocareum and complete locally.\n",
    "\n",
    "To submit your assignment, in Vocareum, upload (using the 'Upload' button on your Jupyter Dashboard) your solution to Vocareum as a single notebook with following file name format:\n",
    "\n",
    "`last_first_CourseNumber_HW3.ipynb`\n",
    "\n",
    "where `CourseNumber` is the course in which you're enrolled (CS 109a, Stats 121a, AC 209a). Submit your assignment in Vocareum using the 'Submit' button.\n",
    "\n",
    "**Avoid editing your file in Vocareum after uploading. If you need to make a change in a solution. Delete your old solution file from Vocareum and upload a new solution. Click submit only ONCE after verifying that you have uploaded the correct file. The assignment will CLOSE after you click the submit button.**\n",
    "\n",
    "Problems on homework assignments are equally weighted. The Challenge Question is required for AC 209A students and optional for all others. Student who complete the Challenge Problem as optional extra credit will receive +0.5% towards your final grade for each correct solution. "
   ]
  },
  {
   "cell_type": "markdown",
   "metadata": {},
   "source": [
    "Import libraries"
   ]
  },
  {
   "cell_type": "code",
   "execution_count": 2,
   "metadata": {
    "collapsed": false
   },
   "outputs": [
    {
     "name": "stderr",
     "output_type": "stream",
     "text": [
      "/Users/linyingzhang/anaconda2/lib/python2.7/site-packages/sklearn/cross_validation.py:44: DeprecationWarning: This module was deprecated in version 0.18 in favor of the model_selection module into which all the refactored classes and functions are moved. Also note that the interface of the new CV iterators are different from that of this module. This module will be removed in 0.20.\n",
      "  \"This module will be removed in 0.20.\", DeprecationWarning)\n"
     ]
    }
   ],
   "source": [
    "import numpy as np\n",
    "import pandas as pd\n",
    "from sklearn.linear_model import LinearRegression as Lin_Reg\n",
    "from sklearn.cross_validation import train_test_split as sk_split\n",
    "import matplotlib\n",
    "import matplotlib.pyplot as plt\n",
    "import matplotlib.cm as cmx\n",
    "import matplotlib.colors as colors\n",
    "import scipy as sp\n",
    "%matplotlib inline"
   ]
  },
  {
   "cell_type": "markdown",
   "metadata": {},
   "source": [
    "## Problem 0: Basic Information\n",
    "\n",
    "Fill in your basic information. \n",
    "\n",
    "### Part (a): Your name"
   ]
  },
  {
   "cell_type": "markdown",
   "metadata": {},
   "source": [
    "[Last: Zhang, First: Linying]"
   ]
  },
  {
   "cell_type": "markdown",
   "metadata": {},
   "source": [
    "### Part (b): Course Number"
   ]
  },
  {
   "cell_type": "markdown",
   "metadata": {},
   "source": [
    "[AC 209a]"
   ]
  },
  {
   "cell_type": "markdown",
   "metadata": {},
   "source": [
    "### Part (c): Who did you work with?"
   ]
  },
  {
   "cell_type": "markdown",
   "metadata": {},
   "source": [
    "[First and Land names of students with whom you have collaborated] None."
   ]
  },
  {
   "cell_type": "markdown",
   "metadata": {},
   "source": [
    "**All data sets can be found in the ``datasets`` folder and are in comma separated value (CSV) format**"
   ]
  },
  {
   "cell_type": "markdown",
   "metadata": {},
   "source": [
    "## Problem 1: Multiple linear regression\n",
    "\n",
    "### Part (a): Implement multiple linear regression from scratch\n",
    "\n",
    "You are provided a data set containing attributes related to automobiles as well as their corresponding prices. The task is to build a linear regression model from scratch that can estimate the price of an automobile (response variable) using its attributes (predictor variables).\n",
    "\n",
    "The file ``dataset_1_train.txt`` contains the training set that you can use to fit a regression model, and the file ``dataset_1_test.txt`` contains the test set that you can use to evaluate the model. In each file, the first two columns contain the predictors of the automobile, namely ``'horsepower'`` and ``'highway MPG'``, and the last column contains the automobile prices.\n",
    "\n",
    "- Implement the following two functions from scratch. \n",
    "\n",
    "    - ``multiple_linear_regression_fit``:\n",
    "\n",
    "        - takes as input: the training set, ``x_train``, ``y_train``\n",
    "\n",
    "        - fits a multiple linear regression model\n",
    "\n",
    "        - returns the model parameters (coefficients on the predictors, as an array, and the intercept, as a float).\n",
    "\n",
    "    - ``multiple_linear_regression_score``:\n",
    "\n",
    "        - takes model parameters (coefficients and intercept) and the test set, ``x_test`` ``y_test``, as inputs\n",
    "\n",
    "        - returns the R^2 score for the model on the test set, along with the predicted y-values.\n",
    "        \n",
    "- Use your functions to predict automobile prices and evaluate your predictions.\n",
    "\n",
    "**Note:** You **may not** use pre-built models or model evaluators for these tasks."
   ]
  },
  {
   "cell_type": "code",
   "execution_count": 19,
   "metadata": {
    "collapsed": true
   },
   "outputs": [],
   "source": [
    "### Functions for fitting and evaluating multiple linear regression\n",
    "### Functions for fitting and evaluating multiple linear regression\n",
    "\n",
    "#--------  multiple_linear_regression_fit\n",
    "# A function for fitting a multiple linear regression\n",
    "# Fitted model: f(x) = x.w + c\n",
    "# Input: \n",
    "#      x_train (n x d array of predictors in training data)\n",
    "#      y_train (n x 1 array of response variable vals in training data)\n",
    "# Return: \n",
    "#      w (d x 1 array of coefficients) \n",
    "#      c (float representing intercept)\n",
    "\n",
    "def multiple_linear_regression_fit(x_train, y_train):\n",
    "    \n",
    "    # Append a column of one's to x\n",
    "    n = x_train.shape[0]\n",
    "    ones_col = np.ones((n, 1))\n",
    "    \n",
    "    x_train = np.concatenate((x_train, ones_col), axis=1)\n",
    "    \n",
    "    # Compute transpose of x\n",
    "    x_transpose = np.transpose(x_train)\n",
    "    \n",
    "    # Compute coefficients: w = inv(x^T * x) x^T * y\n",
    "    # Compute intermediate term: inv(x^T * x)\n",
    "    # Note: We have to take pseudo-inverse (pinv), just in case x^T * x is not invertible \n",
    "    x_t_x_inv = np.linalg.pinv(np.dot(x_transpose, x_train))\n",
    "    \n",
    "    # Compute w: inter_term * x^T * y \n",
    "    w = np.dot(np.dot(x_t_x_inv, x_transpose), y_train)\n",
    "    \n",
    "    # Obtain intercept: 'c' (last index)\n",
    "    c = w[-1]\n",
    "    \n",
    "    return w[:-1], c\n",
    "\n",
    "#--------  multiple_linear_regression_score\n",
    "# A function for evaluating R^2 score and MSE \n",
    "# of the linear regression model on a data set\n",
    "# Input: \n",
    "#      w (d x 1 array of coefficients)\n",
    "#      c (float representing intercept)\n",
    "#      x_test (n x d array of predictors in testing data)\n",
    "#      y_test (n x 1 array of response variable vals in testing data)\n",
    "# Return: \n",
    "#      r_squared (float) \n",
    "#      y_pred (n x 1 array of predicted y-vals)\n",
    "\n",
    "def multiple_linear_regression_score(w, c, x_test, y_test):        \n",
    "    # Compute predicted labels\n",
    "    y_pred = np.dot(x_test, w) + c\n",
    "    \n",
    "    # Evaluate sqaured error, against target labels\n",
    "    # sq_error = \\sum_i (y[i] - y_pred[i])^2\n",
    "    sq_error = np.sum(np.square(y_test - y_pred))\n",
    "    \n",
    "    # Evaluate squared error for a predicting the mean value, against target labels\n",
    "    # variance = \\sum_i (y[i] - y_mean)^2\n",
    "    y_mean = np.mean(y_test)\n",
    "    y_variance = np.sum(np.square(y_test - y_mean))\n",
    "    \n",
    "    # Evaluate R^2 score value\n",
    "    r_squared = 1 - sq_error / y_variance\n",
    "\n",
    "    return r_squared, y_pred"
   ]
  },
  {
   "cell_type": "code",
   "execution_count": 20,
   "metadata": {
    "collapsed": false
   },
   "outputs": [
    {
     "name": "stdout",
     "output_type": "stream",
     "text": [
      "('R^2 score on test set:', 0.17794462732714034)\n"
     ]
    }
   ],
   "source": [
    "# Load train and test data sets\n",
    "data_train = np.loadtxt('datasets/dataset_1_train.txt', delimiter=',', skiprows=1)\n",
    "data_test = np.loadtxt('datasets/dataset_1_test.txt', delimiter=',', skiprows=1)\n",
    "\n",
    "# Split predictors from response\n",
    "# Training\n",
    "y_train = data_train[:, -1]\n",
    "x_train = data_train[:, :-1]\n",
    "\n",
    "# Testing\n",
    "y_test = data_test[:, -1]\n",
    "x_test = data_test[:, :-1]\n",
    "\n",
    "# Fit multiple linear regression model\n",
    "w, c = multiple_linear_regression_fit(x_train, y_train)\n",
    "\n",
    "# Evaluate model\n",
    "r_squared, _ = multiple_linear_regression_score(w, c, x_test, y_test)\n",
    "\n",
    "print('R^2 score on test set:', r_squared)"
   ]
  },
  {
   "cell_type": "markdown",
   "metadata": {},
   "source": [
    "### Part (b): Confidence interval on regression parameters\n",
    "Using your linear regression implementation from Part (a), model the data in ``dataset_2.txt``, which contains five predictor variables in the first five columns, and the response variable in the last column.\n",
    "\n",
    "Compute confidence intervals for the model parameters you obtain:\n",
    "\n",
    "- Create 200 random subsamples of the data set of size 100, and use your function to fit a multiple linear regression model to each subsample. \n",
    "\n",
    "- For each coefficient on the predictor variables: plot a histogram of the values obtained across the subsamples, and calculate the confidence interval for the coefficients at a confidence level of 95%. \n",
    "\n",
    "- Highlight the mean coeffcient values and the end points of the confidence intervals using vertical lines on the histogram plot. How large is the spread of the coefficient values in the histograms, and how tight are the confidence intervals?\n",
    "\n",
    "- Use the formula for computing confidence intervals provided in class (or use ``statmodels``) to compute the the confidence intervals. Compare confidence intervals you find through simulation to the ones given by the formula (or ``statmodels``), are your results what you would expect?\n",
    "\n",
    "**Note:** You **may not** use pre-built models or model evaluators for these tasks."
   ]
  },
  {
   "cell_type": "code",
   "execution_count": 175,
   "metadata": {
    "collapsed": false
   },
   "outputs": [
    {
     "name": "stdout",
     "output_type": "stream",
     "text": [
      "Linear regression with all predictors\n"
     ]
    },
    {
     "data": {
      "image/png": "[encoded data removed]",
      "text/plain": [
       "<matplotlib.figure.Figure at 0x119e403d0>"
      ]
     },
     "metadata": {},
     "output_type": "display_data"
    }
   ],
   "source": [
    "# Load train set\n",
    "data = np.loadtxt(\"dataset_2.txt\", delimiter=',', skiprows = 1)\n",
    "\n",
    "# Size of data set, and subsample (10%)\n",
    "x = data[:, :-1]\n",
    "y = data[:, -1]\n",
    "\n",
    "# Record size of the data set\n",
    "n = x.shape[0]\n",
    "d = x.shape[1]\n",
    "subsample_size = 100\n",
    "\n",
    "# No. of subsamples\n",
    "num_samples = 200\n",
    "    \n",
    "### Linear regression with all 5 predictors\n",
    "\n",
    "# Create a n x d array to store coefficients for 100 subsamples\n",
    "coefs_multiple = np.zeros((num_samples, d))\n",
    "\n",
    "print 'Linear regression with all predictors'\n",
    "\n",
    "# Repeat for 200 subsamples\n",
    "for i in range(num_samples):\n",
    "    # Generate a random subsample of 50 data points\n",
    "    perm = np.random.permutation(n) # Generate a list of indices 0 to n and permute it\n",
    "    x_subsample = x[perm[:subsample_size], :] # Get x-vals for the first 50 indices in permuted list\n",
    "    \n",
    "    y_subsample = y[perm[:subsample_size]] # Get y-vals for the first 50 indices in permuted list\n",
    "\n",
    "    # Fit linear regression model on subsample\n",
    "    w, c = multiple_linear_regression_fit(x_subsample, y_subsample)\n",
    "    # Store the coefficient for the model we obtain\n",
    "    coefs_multiple[i, :] = w\n",
    "\n",
    "# Plot histogram of coefficients, and report their confidence intervals \n",
    "fig, axes = plt.subplots(1, d, figsize=(20, 3))\n",
    "\n",
    "# Repeat for each coefficient\n",
    "for j in range(d):\n",
    "    # Compute mean for the j-th coefficent from subsamples\n",
    "    coef_j_mean = np.mean(coefs_multiple[:, j])\n",
    "    \n",
    "    # Compute confidence interval at 95% confidence level (use formula!)\n",
    "    conf_int_left = np.percentile(coefs_multiple[:, j], 2.5)\n",
    "    conf_int_right = np.percentile(coefs_multiple[:, j], 97.5)\n",
    "       \n",
    "    # Plot histogram of coefficient values\n",
    "    axes[j].hist(coefs_multiple[:, j], alpha=0.5)\n",
    "\n",
    "    # Plot vertical lines at mean and left, right extremes of confidence interval\n",
    "    axes[j].axvline(x = coef_j_mean, linewidth=3)\n",
    "    axes[j].axvline(x = conf_int_left, linewidth=1, c='r')\n",
    "    axes[j].axvline(x = conf_int_right, linewidth=1, c='r')\n",
    "    \n",
    "    # Set plot labels\n",
    "    axes[j].set_title('[' + str(round(conf_int_left, 4)) \n",
    "                      + ', ' \n",
    "                      + str(round(conf_int_right, 4)) + ']')\n",
    "    axes[j].set_xlabel('Predictor ' + str(j + 1))\n",
    "    axes[j].set_ylabel('Frequency')\n",
    "\n",
    "plt.show()"
   ]
  },
  {
   "cell_type": "code",
   "execution_count": 182,
   "metadata": {
    "collapsed": false
   },
   "outputs": [
    {
     "name": "stdout",
     "output_type": "stream",
     "text": [
      "The confidence intervals for predictor 1 to 5 are:\n",
      "[[ 0.55277262  0.75038508]\n",
      " [ 0.35223041  0.74974337]\n",
      " [ 0.08891385  0.47338926]\n",
      " [ 0.80980994  1.09854837]\n",
      " [ 0.07854262  0.48843361]]\n"
     ]
    }
   ],
   "source": [
    "x = sm.add_constant(x)\n",
    "# x.shape\n",
    "# y.shape\n",
    "# build regression model using sm.OLS\n",
    "model = sm.OLS(y, x)\n",
    "results = model.fit()\n",
    "\n",
    "print \"The confidence intervals for predictor 1 to 5 are:\"\n",
    "print results.conf_int(alpha=0.05)[1:6]\n",
    "    "
   ]
  },
  {
   "cell_type": "markdown",
   "metadata": {},
   "source": [
    "The confidence intervals from the simulation and statsmodel are similar but not identical. If we increase the number of sample times, the confidence interval from simulation would approach the values from statsmodel."
   ]
  },
  {
   "cell_type": "markdown",
   "metadata": {},
   "source": [
    "## Problem 2: Polynomial regression\n",
    "In this problem, we revisit a dataset from Homework 1 and fit polynomial regression models to it. The dataset is provided in the file ``dataset_3.txt``, which contains a single predictor variable ``x`` in the first column and the response variable ``y`` in the second column. \n",
    "\n",
    "### Part(a): Implement polynomial regression from scratch\n",
    "\n",
    "- Implement the following three functions from scratch:\n",
    "\n",
    "    - ``polynomial_regression_fit``:\n",
    "        - takes as input: training set, ``x_train``, ``y_train`` and the degree of the polynomial\n",
    "        - fits a polynomial regression model \n",
    "        - returns the model parameters (array of coefficients and the intercept)\n",
    "\n",
    "    - ``polynomial_regression_predict``: \n",
    "        - takes as input: the model parameters (array of coefficients and the intercept), the degree of the polynomial and the test set predictors ``x_test``\n",
    "        - returns the response values predicted by the model on the test set. \n",
    "\n",
    "    - ``polynomial_regression_score``: \n",
    "        - takes an array of predicted response values and the array of true response values ``y_test``\n",
    "        - returns R^2 score for the model on the test set, as well as the sum of squared errors\n",
    "\n",
    "- Fit polynomial regression models of degrees 3, 5, 10 and 25 to the data set. Visualize the original data along with the fitted models for the various degrees in the same plot. \n",
    "\n",
    "For this problem, you may either use the multiple linear regression functions implemented in the Problem 1 or use the in-built functions in ``sklearn``."
   ]
  },
  {
   "cell_type": "code",
   "execution_count": 49,
   "metadata": {
    "collapsed": false
   },
   "outputs": [],
   "source": [
    "# Load train set\n",
    "data = np.loadtxt(\"dataset_3.txt\", delimiter=',', skiprows = 1)\n",
    "\n",
    "# Separate x and y \n",
    "x_train = data[:, 0]\n",
    "y_train = data[:, 1]\n",
    "\n",
    "# write the regression fit function\n",
    "def polynomial_regression_fit(x_train, y_train, d):\n",
    "    \n",
    "    # Create the poly terms for x, x^2...\n",
    "    \n",
    "    n = np.size(y_train)   # data size\n",
    "    x_poly = np.zeros([n, d]) # poly degree\n",
    "    \n",
    "    for i in range(1, d + 1):\n",
    "        x_poly[:, i-1] = np.power(x_train, i)  # appending x, x^2, x^3 by column \n",
    "    w, c = multiple_linear_regression_fit(x_poly, y_train)\n",
    "    return w, c\n",
    "\n",
    "\n",
    "def polynomial_regression_predict(x_test, w, c, d):\n",
    "    \n",
    "    # Create the poly terms for x, x^2...\n",
    "    \n",
    "    n = np.size(x_test)   # data size\n",
    "    x_poly = np.zeros([n, d]) # poly degree\n",
    "    \n",
    "    for i in range(1, d + 1):\n",
    "        x_poly[:, i-1] = np.power(x_test, i)  # appending x, x^2, x^3 by column \n",
    "    y_pred = np.dot(x_poly, w) + c\n",
    "    return y_pred\n",
    "\n",
    "\n",
    "def polynomial_regression_score(w, c, y_test, y_pred):\n",
    "    \n",
    "    # Evaluate sqaured error, against target labels\n",
    "    # sq_error = \\sum_i (y[i] - y_pred[i])^2\n",
    "    sq_error = np.sum(np.square(y_test - y_pred))\n",
    "    \n",
    "    # Evaluate squared error for a predicting the mean value, against target labels\n",
    "    # variance = \\sum_i (y[i] - y_mean)^2\n",
    "    y_mean = np.mean(y_test)\n",
    "    y_variance = np.sum(np.square(y_test - y_mean))\n",
    "    \n",
    "    # Evaluate R^2 score value\n",
    "    r_squared = 1 - sq_error / y_variance\n",
    "\n",
    "    return r_squared, sq_error"
   ]
  },
  {
   "cell_type": "code",
   "execution_count": 50,
   "metadata": {
    "collapsed": false
   },
   "outputs": [
    {
     "data": {
      "image/png": "[encoded data removed]",
      "text/plain": [
       "<matplotlib.figure.Figure at 0x1241414d0>"
      ]
     },
     "metadata": {},
     "output_type": "display_data"
    }
   ],
   "source": [
    "# In order to use plt.plot function, we first need to sort x from small to large.\n",
    "# the index_array is the indices of x from small to large\n",
    "index_array = np.argsort(x_train)\n",
    "\n",
    "# sort y based on the indices of x\n",
    "y_train = y_train[index_array]\n",
    "\n",
    "# then sort x so that x and y are match for each row again.\n",
    "x_train = np.sort(x_train)\n",
    "\n",
    "\n",
    "# plot the original data\n",
    "plt.figure(figsize=(10, 5))\n",
    "plt.xlabel('x')\n",
    "plt.ylabel('y_train/predicted_y')\n",
    "plt.scatter(x_train, y_train, label = \"raw data\")\n",
    "\n",
    "\n",
    "# build models for d = 3, 5, 10, and 25 and plot the model \n",
    "colors = ['magenta', 'red', 'yellow', 'cyan']\n",
    "counter = 0\n",
    "for d in [3, 5, 10, 25]:\n",
    "    # build model to get coeff and the predicted y using x_train\n",
    "    w, c = polynomial_regression_fit(x_train, y_train, d)\n",
    "    y_pred = polynomial_regression_predict(x_train, w, c, d)\n",
    "\n",
    "    # plot each fitted model on top of the scatter plot\n",
    "    plt.plot(x_train, y_pred, c = colors[counter], label = \"degree of polynomial:\"+str(d))\n",
    "    counter += 1\n",
    "plt.legend(loc = 'best')\n",
    "plt.show()"
   ]
  },
  {
   "cell_type": "markdown",
   "metadata": {},
   "source": [
    "###  Part (b): Comparing training and test errors\n",
    "\n",
    "- Split the data set in Problem 2 each into training and test sets: use the first 50% of the data for training and the remaining for testing. \n",
    "\n",
    "\n",
    "- Fit polynomial models of varying degree ranging from 1 to 15 to the training sets. Evaluate  the various fits on **both** the training and the test sets. Plot both the R^2 score of the fitted polynomial models on the training and test sets as a functions of the degree. \n",
    "\n",
    "\n",
    "- Describe the relationship between degree of the polynomial model and the fit on both the training and testing data. Explain, based on the plot, what is the best polynomial model for the data."
   ]
  },
  {
   "cell_type": "code",
   "execution_count": 134,
   "metadata": {
    "collapsed": false
   },
   "outputs": [
    {
     "data": {
      "image/png": "[encoded data removed]",
      "text/plain": [
       "<matplotlib.figure.Figure at 0x1241170d0>"
      ]
     },
     "metadata": {},
     "output_type": "display_data"
    }
   ],
   "source": [
    "# Load data and split to training and testing\n",
    "data = np.loadtxt(\"dataset_3.txt\", delimiter=',', skiprows = 1)\n",
    "\n",
    "# Split the first 50% data into train and remaining into test\n",
    "train = data[:50, :]\n",
    "test = data[50:, :]\n",
    "\n",
    "x_train = train[:, 0]\n",
    "y_train = train[:, 1]\n",
    "x_test = test[:, 0]\n",
    "y_test = test[:, 1]\n",
    "\n",
    "\n",
    "# create empty arrays to store R^2\n",
    "r_list_train = np.zeros([15,2])\n",
    "r_list_test = np.zeros([15,2])\n",
    "\n",
    "# Fit polynomial models of varying degree ranging from 1 to 15 \n",
    "# to the training set and testing set\n",
    "for d in range(1, 16):\n",
    "\n",
    "    # build model based on the training data\n",
    "    w, c = polynomial_regression_fit(x_train, y_train, d)\n",
    "\n",
    "    # predict y of the training set and testing set\n",
    "    y_pred_train = polynomial_regression_predict(x_train, w, c, d)\n",
    "    y_pred_test = polynomial_regression_predict(x_test, w, c, d)\n",
    "    \n",
    "    # Evaluate prediction by R^2 on both training and testing set\n",
    "    r_sqr_train, sq_error_train = polynomial_regression_score(w, c, y_train, y_pred_train)\n",
    "    r_sqr_test, sq_error_test = polynomial_regression_score(w, c, y_test, y_pred_test)\n",
    "    \n",
    "    # Store R^2 into arrays\n",
    "    r_list_train[d-1, 0] = d\n",
    "    r_list_test[d-1, 0] = d\n",
    "    r_list_train[d-1, 1] = r_sqr_train\n",
    "    r_list_test[d-1, 1] = r_sqr_test\n",
    "    \n",
    "\n",
    "# Plot the R^2 against degree of polynomial for both training and testing sets\n",
    "fig = plt.figure(figsize=(10, 5))\n",
    "\n",
    "\n",
    "plt.plot(r_list_train[:, 0], r_list_train[:, 1], 'bo-', label = 'training')\n",
    "plt.plot(r_list_test[:, 0], r_list_test[:, 1], 'ro-', label = 'testing')\n",
    "plt.xlabel(\"Degree of polynomial\")\n",
    "plt.ylabel('$R^2$')\n",
    "plt.title(\"Polynomial regression on training/testing set\")\n",
    "plt.legend(loc='best')\n",
    "plt.show()"
   ]
  },
  {
   "cell_type": "raw",
   "metadata": {},
   "source": [
    "# Describe the relationship between degree of the polynomial model and the fit on both the training and testing data. Explain, based on the plot, what is the best polynomial model for the data.\n",
    "\n",
    "R^2 of both datasets do not increase much from d=1 to d=2, but increase significantly reaching  0.9 from d=2 to d=3. The R^2 of training set has slight increase when degree of polynomial goes from 3 to 11 and reaches plateau thereafter.\n",
    "\n",
    "However, for d>3, the R^2 of testing set instead of increasing with the degree of polynomial, it actually goes down and remains stable thereafter. This decrease of R^2 in testing set is due to the overfitting of model with high degree of polynomial on the training set, so we are not only fitting the real trend of the data but also some noise from the training set, which leads to a poorer prediction on the testing set.\n",
    "\n",
    "Based on the plots, the best model is degree of polynomial = 3."
   ]
  },
  {
   "cell_type": "markdown",
   "metadata": {},
   "source": [
    "## Problem 3: Model selection criterion\n",
    "In this problem, we examine various criteria that help us decide how to choose between multiple models for the same data.\n",
    "\n",
    "###  Part (a): How does one choose the best polynomial degree?\n",
    "In Problem 2, you fitted polynomials of different degrees to the entire data set, and inspected the quality of fits on the test set. In practice, one needs to find the 'best' model for the given prediction task using **only** the training set. For this, we'll now make use of two model selection criteria, namely, the Akaike Information Criterion (AIC) and the Bayesian Information Criterion (BIC). These are evaluated on the training set, but serve as a proxy for the test set accuracy.\n",
    "\n",
    "For ``dataset_3.txt``, do the following:\n",
    "\n",
    "- For each polynomial model you fitted, compute the AIC and BIC for the model on the training set. Plot the criterion values as a function of the polynomial degree.\n",
    "\n",
    "\n",
    "- Which model is chosen by each criterion? Do they match with the model that yields maximum test R^2 score?"
   ]
  },
  {
   "cell_type": "code",
   "execution_count": 139,
   "metadata": {
    "collapsed": false
   },
   "outputs": [
    {
     "data": {
      "image/png": "[encoded data removed]",
      "text/plain": [
       "<matplotlib.figure.Figure at 0x124114590>"
      ]
     },
     "metadata": {},
     "output_type": "display_data"
    }
   ],
   "source": [
    "# create empty arrays to store R^2\n",
    "AIC_array = np.zeros([15,2])\n",
    "BIC_array = np.zeros([15,2])\n",
    "\n",
    "# Fit polynomial models of varying degree ranging from 1 to 15 to the training set\n",
    "n = len(x_train)\n",
    "for d in range(1, 16):\n",
    "\n",
    "    # build model based on the training data\n",
    "    w, c = polynomial_regression_fit(x_train, y_train, d)\n",
    "    \n",
    "    # predict y of the training set and testing set\n",
    "    y_pred_train = polynomial_regression_predict(x_train, w, c, d)\n",
    "\n",
    "    # Evaluate prediction by R^2 on both training and testing set\n",
    "    r_sqr_train, sq_error_train = polynomial_regression_score(w, c, y_train, y_pred_train)\n",
    "\n",
    "    # Calculate AIC\n",
    "    AIC = n * np.log(sq_error_train/n) + 2 * d\n",
    "    \n",
    "    # Calculate AIC\n",
    "    BIC = n * np.log(sq_error_train/n) + np.log(n) * d\n",
    "    \n",
    "    # Store AIC and BIC into arrays\n",
    "    AIC_array[d-1, 0] = d\n",
    "    BIC_array[d-1, 0] = d\n",
    "    AIC_array[d-1, 1] = AIC\n",
    "    BIC_array[d-1, 1] = BIC\n",
    "\n",
    "    \n",
    "# Plot AIC and BIC against degree of polynomial\n",
    "fig = plt.figure(figsize=(10, 5))\n",
    "\n",
    "plt.plot(AIC_array[:, 0], AIC_array[:, 1], 'bo-', label = 'AIC')\n",
    "plt.plot(BIC_array[:, 0], BIC_array[:, 1], 'go-', label = 'BIC')\n",
    "plt.xlabel(\"Degree of polynomial\")\n",
    "plt.ylabel('AIC/BIC')\n",
    "plt.title(\"Polynomial regression on training set\")\n",
    "plt.legend(loc = 'best')\n",
    "\n",
    "plt.show()\n"
   ]
  },
  {
   "cell_type": "raw",
   "metadata": {},
   "source": [
    "Based on AIC, we would choose the polynomial with d=4, the lowest point on the AIC curve. Based on BIC, we would choose the model with d = 3 where the BIC reaches minimum. (In model selection, we always go for a simpler model if the more complicated version doesn't improve the model significantly). These two criteria do not suggest the exact same best model, but give very similar suggestions (d=3 or 4). And it is to certain extent consistent with the model selected based on R^2 (d=3)."
   ]
  },
  {
   "cell_type": "markdown",
   "metadata": {},
   "source": [
    "### Part (b): Application to New York taxi cab density estimation\n",
    "\n",
    "We shall now apply the concepts learned so far to a real-world prediction task. You are asked to build a regression model for estimating the density of Green cab taxis at any given time of a day in New York city. The model needs to take the time of the day (in minutes) as input, and predict the expected number of pick ups at that time.\n",
    "\n",
    "The data set for this problem can be downloaded from the following URL: https://s3.amazonaws.com/nyc-tlc/trip+data/green_tripdata_2015-01.csv. The file contains the details of all pickups by Green cabs in New York City during January 2015. "
   ]
  },
  {
   "cell_type": "code",
   "execution_count": 53,
   "metadata": {
    "collapsed": false
   },
   "outputs": [
    {
     "data": {
      "text/html": [
       "<div>\n",
       "<table border=\"1\" class=\"dataframe\">\n",
       "  <thead>\n",
       "    <tr style=\"text-align: right;\">\n",
       "      <th></th>\n",
       "      <th>0</th>\n",
       "      <th>1</th>\n",
       "      <th>2</th>\n",
       "      <th>3</th>\n",
       "      <th>4</th>\n",
       "      <th>5</th>\n",
       "      <th>6</th>\n",
       "      <th>7</th>\n",
       "      <th>8</th>\n",
       "      <th>9</th>\n",
       "      <th>...</th>\n",
       "      <th>13</th>\n",
       "      <th>14</th>\n",
       "      <th>15</th>\n",
       "      <th>16</th>\n",
       "      <th>17</th>\n",
       "      <th>18</th>\n",
       "      <th>19</th>\n",
       "      <th>20</th>\n",
       "      <th>21</th>\n",
       "      <th>22</th>\n",
       "    </tr>\n",
       "  </thead>\n",
       "  <tbody>\n",
       "    <tr>\n",
       "      <th>0</th>\n",
       "      <td>2</td>\n",
       "      <td>2015-01-01 00:34:42</td>\n",
       "      <td>2015-01-01 00:38:34</td>\n",
       "      <td>N</td>\n",
       "      <td>1</td>\n",
       "      <td>-73.922592</td>\n",
       "      <td>40.754528</td>\n",
       "      <td>-73.913635</td>\n",
       "      <td>40.765522</td>\n",
       "      <td>1</td>\n",
       "      <td>...</td>\n",
       "      <td>0.5</td>\n",
       "      <td>0.0</td>\n",
       "      <td>0.0</td>\n",
       "      <td>NaN</td>\n",
       "      <td>0.3</td>\n",
       "      <td>6.3</td>\n",
       "      <td>2</td>\n",
       "      <td>1.0</td>\n",
       "      <td>NaN</td>\n",
       "      <td>NaN</td>\n",
       "    </tr>\n",
       "    <tr>\n",
       "      <th>1</th>\n",
       "      <td>2</td>\n",
       "      <td>2015-01-01 00:34:46</td>\n",
       "      <td>2015-01-01 00:47:23</td>\n",
       "      <td>N</td>\n",
       "      <td>1</td>\n",
       "      <td>-73.952751</td>\n",
       "      <td>40.677711</td>\n",
       "      <td>-73.981529</td>\n",
       "      <td>40.658978</td>\n",
       "      <td>1</td>\n",
       "      <td>...</td>\n",
       "      <td>0.5</td>\n",
       "      <td>0.0</td>\n",
       "      <td>0.0</td>\n",
       "      <td>NaN</td>\n",
       "      <td>0.3</td>\n",
       "      <td>13.3</td>\n",
       "      <td>2</td>\n",
       "      <td>1.0</td>\n",
       "      <td>NaN</td>\n",
       "      <td>NaN</td>\n",
       "    </tr>\n",
       "    <tr>\n",
       "      <th>2</th>\n",
       "      <td>1</td>\n",
       "      <td>2015-01-01 00:34:44</td>\n",
       "      <td>2015-01-01 00:38:15</td>\n",
       "      <td>N</td>\n",
       "      <td>1</td>\n",
       "      <td>-73.843010</td>\n",
       "      <td>40.719055</td>\n",
       "      <td>-73.846581</td>\n",
       "      <td>40.711567</td>\n",
       "      <td>1</td>\n",
       "      <td>...</td>\n",
       "      <td>0.5</td>\n",
       "      <td>1.8</td>\n",
       "      <td>0.0</td>\n",
       "      <td>NaN</td>\n",
       "      <td>0.0</td>\n",
       "      <td>7.8</td>\n",
       "      <td>1</td>\n",
       "      <td>1.0</td>\n",
       "      <td>NaN</td>\n",
       "      <td>NaN</td>\n",
       "    </tr>\n",
       "    <tr>\n",
       "      <th>3</th>\n",
       "      <td>2</td>\n",
       "      <td>2015-01-01 00:34:48</td>\n",
       "      <td>2015-01-01 00:38:08</td>\n",
       "      <td>N</td>\n",
       "      <td>1</td>\n",
       "      <td>-73.860825</td>\n",
       "      <td>40.757793</td>\n",
       "      <td>-73.854042</td>\n",
       "      <td>40.749821</td>\n",
       "      <td>1</td>\n",
       "      <td>...</td>\n",
       "      <td>0.5</td>\n",
       "      <td>0.0</td>\n",
       "      <td>0.0</td>\n",
       "      <td>NaN</td>\n",
       "      <td>0.3</td>\n",
       "      <td>6.3</td>\n",
       "      <td>2</td>\n",
       "      <td>1.0</td>\n",
       "      <td>NaN</td>\n",
       "      <td>NaN</td>\n",
       "    </tr>\n",
       "    <tr>\n",
       "      <th>4</th>\n",
       "      <td>2</td>\n",
       "      <td>2015-01-01 00:34:53</td>\n",
       "      <td>2015-01-01 01:09:10</td>\n",
       "      <td>N</td>\n",
       "      <td>1</td>\n",
       "      <td>-73.945183</td>\n",
       "      <td>40.783321</td>\n",
       "      <td>-73.989624</td>\n",
       "      <td>40.765450</td>\n",
       "      <td>1</td>\n",
       "      <td>...</td>\n",
       "      <td>0.5</td>\n",
       "      <td>0.0</td>\n",
       "      <td>0.0</td>\n",
       "      <td>NaN</td>\n",
       "      <td>0.3</td>\n",
       "      <td>25.8</td>\n",
       "      <td>2</td>\n",
       "      <td>1.0</td>\n",
       "      <td>NaN</td>\n",
       "      <td>NaN</td>\n",
       "    </tr>\n",
       "  </tbody>\n",
       "</table>\n",
       "<p>5 rows × 23 columns</p>\n",
       "</div>"
      ],
      "text/plain": [
       "   0                    1                    2  3   4          5          6   \\\n",
       "0   2  2015-01-01 00:34:42  2015-01-01 00:38:34  N   1 -73.922592  40.754528   \n",
       "1   2  2015-01-01 00:34:46  2015-01-01 00:47:23  N   1 -73.952751  40.677711   \n",
       "2   1  2015-01-01 00:34:44  2015-01-01 00:38:15  N   1 -73.843010  40.719055   \n",
       "3   2  2015-01-01 00:34:48  2015-01-01 00:38:08  N   1 -73.860825  40.757793   \n",
       "4   2  2015-01-01 00:34:53  2015-01-01 01:09:10  N   1 -73.945183  40.783321   \n",
       "\n",
       "          7          8   9  ...   13   14   15  16   17    18  19   20  21  22  \n",
       "0 -73.913635  40.765522   1 ...  0.5  0.0  0.0 NaN  0.3   6.3   2  1.0 NaN NaN  \n",
       "1 -73.981529  40.658978   1 ...  0.5  0.0  0.0 NaN  0.3  13.3   2  1.0 NaN NaN  \n",
       "2 -73.846581  40.711567   1 ...  0.5  1.8  0.0 NaN  0.0   7.8   1  1.0 NaN NaN  \n",
       "3 -73.854042  40.749821   1 ...  0.5  0.0  0.0 NaN  0.3   6.3   2  1.0 NaN NaN  \n",
       "4 -73.989624  40.765450   1 ...  0.5  0.0  0.0 NaN  0.3  25.8   2  1.0 NaN NaN  \n",
       "\n",
       "[5 rows x 23 columns]"
      ]
     },
     "execution_count": 53,
     "metadata": {},
     "output_type": "execute_result"
    }
   ],
   "source": [
    "import io\n",
    "import requests\n",
    "url = \"https://s3.amazonaws.com/nyc-tlc/trip+data/green_tripdata_2015-01.csv\"\n",
    "s = requests.get(url).content\n",
    "df = pd.read_csv(io.StringIO(s.decode('utf-8')), skiprows = [0], header = None)\n",
    "df.head()"
   ]
  },
  {
   "cell_type": "code",
   "execution_count": 169,
   "metadata": {
    "collapsed": false
   },
   "outputs": [],
   "source": [
    "# Write a function to extract pickup day, time, and convert time to minutes\n",
    "# store day in list \"parse_day\" and minutes in list \"parse_time\"\n",
    "def time_split(entry):\n",
    "    #split pickup to date and time\n",
    "    day_time = entry.split(' ')\n",
    "    \n",
    "    # extract hour, minute and second from the string and convert to minutes as integer\n",
    "    h, m, s = day_time[1].split(':')\n",
    "    minutes = int(h)*60 + int(m)\n",
    "    parse_time.append(minutes)\n",
    "    return parse_time \n",
    "\n",
    "# extract the pickup column from dataset\n",
    "pickup_time = df.loc[:, 1]\n",
    "\n",
    "# Execute time_split function\n",
    "parse_time = []\n",
    "for i in pickup_time:\n",
    "    parse_time = time_split(i) \n",
    "\n",
    "# List all unique minutes in the array and # of occurence\n",
    "unique, counts = np.unique(parse_time, return_counts=True)\n",
    "unique = unique.reshape(len(unique), 1)\n",
    "counts = counts.reshape(len(counts), 1)\n",
    "\n",
    "# Divide counts by 31 days to get average counts per day \n",
    "counts_per_day = counts / float(31)\n",
    "\n",
    "# Form an array of time (minutes) and its # of occurence\n",
    "time_counts = np.concatenate((unique, counts_per_day), axis =1)"
   ]
  },
  {
   "cell_type": "code",
   "execution_count": 172,
   "metadata": {
    "collapsed": false
   },
   "outputs": [
    {
     "data": {
      "image/png": "[encoded data removed]",
      "text/plain": [
       "<matplotlib.figure.Figure at 0x125c64310>"
      ]
     },
     "metadata": {},
     "output_type": "display_data"
    }
   ],
   "source": [
    "import statsmodels.api as sm\n",
    "\n",
    "x_train = time_counts[:, 0]\n",
    "y_train = time_counts[:, 1]\n",
    "\n",
    "# plot the raw data in scatter plot\n",
    "plt.figure(figsize=(10,5))\n",
    "plt.scatter(time_counts[:,0], time_counts[:,1], alpha = 0.3, marker='^', s = 10, color = 'b')\n",
    "plt.title('Number of pickups during a day')\n",
    "\n",
    "\n",
    "colours = ['magenta', 'red', 'yellow', 'green', 'cyan', 'black']\n",
    "counter = 0\n",
    "\n",
    "# try  polynomial degrees from d=1 to d=7\n",
    "for d in range(1, 7):\n",
    "    n = np.size(y_train)   # data size\n",
    "    x_poly = np.zeros([n, d]) # poly degree\n",
    "    \n",
    "    for i in range(1, d + 1):\n",
    "        x_poly[:, i-1] = np.power(x_train, i)  # appending x, x^2, x^3 by column \n",
    "\n",
    "    # add column of ones to the first column of x_poly\n",
    "    x_poly = sm.add_constant(x_poly)\n",
    "\n",
    "    # build regression model using sm.OLS\n",
    "    model = sm.OLS(y_train, x_poly)\n",
    "    results = model.fit()\n",
    "    \n",
    "    # coefficient w and constant c\n",
    "    w = results.params[1:]\n",
    "    c = results.params[0]\n",
    "    \n",
    "    # predict y values(# of pickups) based on x_train (minutes)\n",
    "    y_pred = polynomial_regression_predict(x_train, w, c, d)\n",
    "    \n",
    "    # plot the regression model overlaid with raw data\n",
    "    plt.plot(x_train, y_pred, label = 'd='+str(d), color = colours[counter])\n",
    "    counter += 1\n",
    "    plt.legend(loc = 'best')\n",
    "plt.show()"
   ]
  },
  {
   "cell_type": "raw",
   "metadata": {},
   "source": [
    "Based on the graph above, polynomial degree 3 or 4 fits the curve of raw data the best."
   ]
  },
  {
   "cell_type": "markdown",
   "metadata": {},
   "source": [
    "## Challenge Problem: Advanced regression techniques\n",
    "In this problem, we revisit the automobile pricing data set in Problem 1(a) and explore advanced regression techniques to build better models. \n",
    "\n",
    "\n",
    "### Part (a): Polynomial regression on multi-dimensions\n",
    "In Problems 2-3, you had implemented a polynomial regression technique for data sets with a single predictor variable. How would you use a similar approach to fit a polynomial model on data sets with more than one predictor?\n",
    "\n",
    "Reload ``dataset_1_train.txt`` and ``dataset_1_test.txt``. Fit polynomial models of degrees 2 and 3 to the training set, and evaluate the R^2 score of the fitted model on the test set. How do they compare with the test performance of a linear regression model?"
   ]
  },
  {
   "cell_type": "code",
   "execution_count": 14,
   "metadata": {
    "collapsed": false
   },
   "outputs": [],
   "source": [
    "# Load train and test set\n",
    "train = np.loadtxt(\"datasets/dataset_1_train.txt\", delimiter=',', skiprows = 1)\n",
    "test = np.loadtxt(\"datasets/dataset_1_test.txt\", delimiter=',', skiprows = 1)\n",
    "\n",
    "# Separate x and y \n",
    "x_train = train[:, :2]\n",
    "y_train = train[:, -1]\n",
    "x_test = test[:, :2]\n",
    "y_test = test[:, -1]"
   ]
  },
  {
   "cell_type": "code",
   "execution_count": 16,
   "metadata": {
    "collapsed": false
   },
   "outputs": [
    {
     "name": "stdout",
     "output_type": "stream",
     "text": [
      "The R^2 of polynomial models of degrees 2 and 3 are: 0.385393510353 0.280935138782\n"
     ]
    }
   ],
   "source": [
    "# write the regression fit function (d = polynomial degree)\n",
    "def multiple_polynomial_regression_fit(x_train, y_train, d):\n",
    "    \n",
    "    # Create the poly terms for x, x^2...\n",
    "    \n",
    "    n = np.size(y_train)   # data size\n",
    "    x_poly1 = np.zeros([n, d]) \n",
    "    x_poly2 = np.zeros([n, d])\n",
    "    \n",
    "    # appending the first variable x, x^2, x^3... by column\n",
    "    for i in range(1, d + 1):\n",
    "        x_poly1[:, i-1] = np.power(x_train[:, 0], i)\n",
    "        \n",
    "    # appending the second variable x, x^2, x^3... by column \n",
    "    for i in range(1, d + 1):\n",
    "        x_poly2[:, i-1] = np.power(x_train[:, 1], i)\n",
    "        \n",
    "    # concatenante x_poly2 to the right of x_poly1\n",
    "    x_poly = np.concatenate((x_poly1, x_poly2), axis = 1)\n",
    "    \n",
    "    w, c = multiple_linear_regression_fit(x_poly, y_train)\n",
    "    return w, c\n",
    "\n",
    "# write the predict and score function (d = polynomial degree)\n",
    "def multiple_polynomial_regression_score(w, c, d, x_test, y_test):        \n",
    "    \n",
    "    n = np.size(y_test)   # data size\n",
    "    x_test_poly1 = np.zeros([n, d]) \n",
    "    x_test_poly2 = np.zeros([n, d])\n",
    "    \n",
    "    # appending the first variable x, x^2, x^3... by column\n",
    "    for i in range(1, d + 1):\n",
    "        x_test_poly1[:, i-1] = np.power(x_test[:, 0], i)\n",
    "        \n",
    "    # appending the second variable x, x^2, x^3... by column \n",
    "    for i in range(1, d + 1):\n",
    "        x_test_poly2[:, i-1] = np.power(x_test[:, 1], i)\n",
    "        \n",
    "    # concatenante x_poly2 to the right of x_poly1\n",
    "    x_test_poly = np.concatenate((x_test_poly1, x_test_poly2), axis = 1)\n",
    "    \n",
    "    # Compute predicted labels\n",
    "    y_pred = np.dot(x_test_poly, w) + c\n",
    "    \n",
    "    # Evaluate sqaured error, against target labels\n",
    "    # sq_error = \\sum_i (y[i] - y_pred[i])^2\n",
    "    sq_error = np.sum(np.square(y_test - y_pred))\n",
    "    \n",
    "    # Evaluate squared error for a predicting the mean value, against target labels\n",
    "    # variance = \\sum_i (y[i] - y_mean)^2\n",
    "    y_mean = np.mean(y_test)\n",
    "    y_variance = np.sum(np.square(y_test - y_mean))\n",
    "    \n",
    "    # Evaluate R^2 score value\n",
    "    r_squared = 1 - sq_error / y_variance\n",
    "\n",
    "    return r_squared\n",
    "\n",
    "# build model d=2 from training set\n",
    "w, c = multiple_polynomial_regression_fit(x_train, y_train, 2)\n",
    "\n",
    "# Compute R^2 by running polynomial d=2 model on test set\n",
    "r_squared_d2 = multiple_polynomial_regression_score(w, c, 2, x_test, y_test)\n",
    "\n",
    "\n",
    "# build model d=3 from training set\n",
    "w, c = multiple_polynomial_regression_fit(x_train, y_train, 3)\n",
    "\n",
    "# Compute R^2 by running polynomial d=3 model on test set\n",
    "r_squared_d3 = multiple_polynomial_regression_score(w, c, 3, x_test, y_test)\n",
    "\n",
    "print \"The R^2 of polynomial models of degrees 2 and 3 are:\", r_squared_d2, r_squared_d3"
   ]
  },
  {
   "cell_type": "raw",
   "metadata": {},
   "source": [
    "The R^2 score of linear regression fit is 0.178. The R^2 of models with polynomial degree 2 and 3 are 0.385 and 0.281. Both polynomials models have better R^2, meaning better predictions, but since the R^2 of higher polynomial degree is lower than that of lower polynomial degree, increasing polynomial degree may not always lead to increase of R^2."
   ]
  },
  {
   "cell_type": "markdown",
   "metadata": {},
   "source": [
    "### Part (b): Weighted linear regression\n",
    "\n",
    "Suppose you are told that some of the prices recorded in the training set are noisy, and you are given the list of noisy points, how would you use this information during training to fit a better regression model?\n",
    "\n",
    "The noise level for each training point is provided in the file dataset_1_train_noise_levels.txt. A noise level 'none' indicates that the price is accurate, and a noise level 'noisy' indicates that the price is only moderately accurate. \n",
    "\n",
    "We want to fit a linear regression model that accounts for this new information. One way to do this is to assign different weights to each training point based on the amount of noise associated to that training point. That is, our loss function is now\n",
    "$$\n",
    "\\sum_{i=1}^n \\alpha_i\\,(y_i \\,-\\, w^T x_i)^2\n",
    "$$\n",
    "where $\\alpha_i$ is a number representing how much you value the contribution of the data point $x_i$.\n",
    "\n",
    "How does the R^2 score (evaluated on the test set) of the new linear model compare to the one fitted using plain linear regression?"
   ]
  },
  {
   "cell_type": "markdown",
   "metadata": {},
   "source": [
    "**Solution:**\n",
    "\n",
    "*Weighted Least Squared Linear Regression*: \n",
    "\n",
    "Assign a weight to each training point based on the noise level (higher weight for points with smaller amount of noise), and minimize a weighted least-squres loss during training.\n",
    "\n",
    "Sample: $X \\in \\mathbb{R}^{n\\times d}$, $Y \\in \\mathbb{R}^n$\n",
    "\n",
    "Weights on individual points: $\\alpha \\in \\mathbb{R}^n$   \n",
    "(Set $\\alpha_i$ to 1 for noise level 'none', to 0.25 for noise level 'noisy')\n",
    "\n",
    "Weighted least-squares loss: $\\sum_{i=1}^n \\alpha_i\\,(y_i \\,-\\, w^T x_i)^2$\n",
    "\n",
    "Do some algebra:  $\\sum_{i=1}^n \\left({\\sqrt{\\alpha_i}}y_i \\,-\\, w^T {\\sqrt{\\alpha_i}}x_i\\right)^2$\n",
    "\n",
    "Now, let $\\tilde{x}_i = {\\sqrt{\\alpha_i}}x_i$ and $\\tilde{y}_i = {\\sqrt{\\alpha_i}}y_i$. That is multiply each $x_i$ and $y_i$ by $\\sqrt{\\alpha_i}$! Finally, we get:\n",
    "$$\n",
    "\\sum_{i=1}^n \\left(\\tilde{y}_i \\,-\\, w^T \\tilde{x}_i\\right)^2\n",
    "$$\n",
    "and we can proceed with linear regression as usual!\n",
    "\n"
   ]
  },
  {
   "cell_type": "code",
   "execution_count": 17,
   "metadata": {
    "collapsed": true
   },
   "outputs": [],
   "source": [
    "#--------  weighted_linear_regression_fit\n",
    "# Function for fitting a weighted multiple linear regression\n",
    "# Input: \n",
    "#      x_train (n x d array of x-vals) \n",
    "#      y_train (n x 1 array of y-vals) \n",
    "#      alpha (n x 1 array of weightes)\n",
    "# Return: \n",
    "#      w (d x 1 array of coefficients) \n",
    "#      c (float representing intercept)\n",
    "def weighted_linear_regression_fit(x, y, alpha):\n",
    "    \n",
    "    # Change the x and y values\n",
    "    # Create a diagonal matrix where the ith diagonal is 1/np.sqrt(alpha[i])\n",
    "    weights = np.diag(np.sqrt(alpha))\n",
    "    # Multiply the weight matrix with y-vals: 1/np.sqrt(alpha[i]) * y[i]\n",
    "    y = np.dot(weights, y)\n",
    "    # Multiply the weight matrix with x-vals: 1/np.sqrt(alpha[i]) * x[i, :]\n",
    "    x = np.dot(weights, x)\n",
    "    \n",
    "    w, c = multiple_linear_regression_fit(x, y)\n",
    "    \n",
    "    return w, c"
   ]
  },
  {
   "cell_type": "code",
   "execution_count": 18,
   "metadata": {
    "collapsed": false
   },
   "outputs": [
    {
     "name": "stdout",
     "output_type": "stream",
     "text": [
      "Weighted linear regression: R^2 score on test set = -3.80288802402\n",
      "Unweighted linear regression: R^2 score on test set = 0.177944627327\n"
     ]
    }
   ],
   "source": [
    "# Download noise levels\n",
    "df_noise_levels = pd.read_csv('datasets/dataset_1_train_noise_levels.txt', index_col=False)\n",
    "\n",
    "# No. of training point\n",
    "n_train = len(df_noise_levels)\n",
    "\n",
    "# Assign weights to instances based on noise level:\n",
    "#  alpha_i = 1 if noise level is 'none'\n",
    "#  alpha_i = 0.5 if noise level is 'noisy'\n",
    "\n",
    "noise_levels = df_noise_levels['noise levels']\n",
    "\n",
    "noise_levels[noise_levels == 'noisy'] = 0.25\n",
    "noise_levels[noise_levels == 'none'] = 1.\n",
    "alpha = noise_levels.values\n",
    "        \n",
    "# Fit weighted model training set\n",
    "w, c = weighted_linear_regression_fit(x_train, y_train, alpha.astype('float64'))\n",
    "\n",
    "# Evaluate weigthed model on testing set\n",
    "r_squared, _ = multiple_linear_regression_score(w, c, x_test, y_test)\n",
    "print 'Weighted linear regression: R^2 score on test set =', r_squared\n",
    "\n",
    "\n",
    "# Fit unweighted model training set\n",
    "w, c = multiple_linear_regression_fit(x_train, y_train)\n",
    "\n",
    "# Evaluate unweigthed model on testing set\n",
    "r_squared,_ = multiple_linear_regression_score(w, c, x_test, y_test)\n",
    "print 'Unweighted linear regression: R^2 score on test set =', r_squared"
   ]
  },
  {
   "cell_type": "raw",
   "metadata": {},
   "source": [
    "The R^2 shouldn't be negative. So something might went wrong with the alpha, or the loss function calculation."
   ]
  }
 ],
 "metadata": {
  "anaconda-cloud": {},
  "kernelspec": {
   "display_name": "Python 2",
   "language": "python",
   "name": "python2"
  },
  "language_info": {
   "codemirror_mode": {
    "name": "ipython",
    "version": 2
   },
   "file_extension": ".py",
   "mimetype": "text/x-python",
   "name": "python",
   "nbconvert_exporter": "python",
   "pygments_lexer": "ipython2",
   "version": "2.7.13"
  }
 },
 "nbformat": 4,
 "nbformat_minor": 0
}
